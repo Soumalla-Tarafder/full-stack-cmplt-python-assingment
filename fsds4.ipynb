{
 "cells": [
  {
   "cell_type": "code",
   "execution_count": null,
   "id": "8448f4ce",
   "metadata": {},
   "outputs": [],
   "source": [
    "1. Write a Python Program to Find LCM?"
   ]
  },
  {
   "cell_type": "code",
   "execution_count": 1,
   "id": "48c43241",
   "metadata": {},
   "outputs": [
    {
     "name": "stdout",
     "output_type": "stream",
     "text": [
      "The L.C.M. is 216\n"
     ]
    }
   ],
   "source": [
    "def compute_lcm(x, y):\n",
    "\n",
    " \n",
    "   if x > y:\n",
    "       greater = x\n",
    "   else:\n",
    "       greater = y\n",
    "\n",
    "   while(True):\n",
    "       if((greater % x == 0) and (greater % y == 0)):\n",
    "           lcm = greater\n",
    "           break\n",
    "       greater += 1\n",
    "\n",
    "   return lcm\n",
    "\n",
    "num1 = 54\n",
    "num2 = 24\n",
    "\n",
    "print(\"The L.C.M. is\", compute_lcm(num1, num2))\n"
   ]
  },
  {
   "cell_type": "code",
   "execution_count": null,
   "id": "76560c0c",
   "metadata": {},
   "outputs": [],
   "source": []
  },
  {
   "cell_type": "code",
   "execution_count": null,
   "id": "ebf5c4b9",
   "metadata": {},
   "outputs": [],
   "source": [
    "2. Write a Python Program to Find HCF?"
   ]
  },
  {
   "cell_type": "code",
   "execution_count": 2,
   "id": "f370e817",
   "metadata": {},
   "outputs": [
    {
     "name": "stdout",
     "output_type": "stream",
     "text": [
      "Enter first number: 50\n",
      "Enter second number: 60\n",
      "The H.C.F. of 50 and 60 is 10\n"
     ]
    }
   ],
   "source": [
    "def calculate_hcf(x, y):  \n",
    "    \n",
    "    if x > y:  \n",
    "        smaller = y  \n",
    "    else:  \n",
    "        smaller = x  \n",
    "    for i in range(1,smaller + 1):  \n",
    "        if((x % i == 0) and (y % i == 0)):  \n",
    "            hcf = i  \n",
    "    return hcf  \n",
    "  \n",
    "\n",
    "num1 = int(input(\"Enter first number: \"))  \n",
    "num2 = int(input(\"Enter second number: \"))  \n",
    "  \n",
    "print(\"The H.C.F. of\", num1,\"and\", num2,\"is\", calculate_hcf(num1, num2))  "
   ]
  },
  {
   "cell_type": "code",
   "execution_count": null,
   "id": "d497eec5",
   "metadata": {},
   "outputs": [],
   "source": []
  },
  {
   "cell_type": "code",
   "execution_count": null,
   "id": "38ba3691",
   "metadata": {},
   "outputs": [],
   "source": [
    "3. Write a Python Program to Convert Decimal to Binary, Octal and Hexadecimal?"
   ]
  },
  {
   "cell_type": "code",
   "execution_count": 27,
   "id": "d5125633",
   "metadata": {},
   "outputs": [
    {
     "name": "stdout",
     "output_type": "stream",
     "text": [
      "1\n",
      "0\n",
      "1\n",
      "dec to octal\n",
      "17\n",
      "dec to hexa\n",
      "F\n"
     ]
    }
   ],
   "source": [
    "def DecimalToBinary(num):\n",
    "    \n",
    "    \n",
    "    if num > 1:\n",
    "        DecimalToBinary(num // 2)\n",
    "    print (num % 2 )\n",
    "DecimalToBinary(5)\n",
    "\n",
    "print(\"dec to octal\")\n",
    "def decimaltoOctal(deciNum):\n",
    " \n",
    "    \n",
    "    octalNum = 0\n",
    "    countval = 1\n",
    "    dNo = deciNum\n",
    " \n",
    "    while (deciNum != 0):\n",
    " \n",
    "        \n",
    "        remainder = deciNum % 8\n",
    " \n",
    "      \n",
    "        octalNum += remainder * countval\n",
    " \n",
    "        \n",
    "        countval = countval * 10\n",
    "        deciNum //= 8\n",
    " \n",
    "    print(octalNum)\n",
    "\n",
    "decimaltoOctal(15)\n",
    "\n",
    "print(\"dec to hexa\")\n",
    "\n",
    "def decimaltohexa(deciNum):\n",
    " \n",
    "    \n",
    "    hexaNum = 0\n",
    "    countval = 1\n",
    "    dNo = deciNum\n",
    " \n",
    "    while (deciNum != 0):\n",
    " \n",
    "        \n",
    "        remainder = deciNum % 16\n",
    " \n",
    "      \n",
    "        hexaNum += remainder * countval\n",
    " \n",
    "        \n",
    "        countval = countval * 10\n",
    "        deciNum //= 16\n",
    " \n",
    "    if hexaNum == 10:\n",
    "        print(\"A\")\n",
    "    elif hexaNum == 11:\n",
    "        print(\"B\")\n",
    "    elif hexaNum == 12:\n",
    "        print(\"c\")\n",
    "    elif hexaNum == 13:\n",
    "        print(\"D\")\n",
    "    elif hexaNum == 14:\n",
    "        print(\"E\")    \n",
    "    elif hexaNum == 15:\n",
    "        print(\"F\") \n",
    "    else:\n",
    "        print(hexalnum)\n",
    "decimaltohexa(15)"
   ]
  },
  {
   "cell_type": "code",
   "execution_count": null,
   "id": "58c8f561",
   "metadata": {},
   "outputs": [],
   "source": []
  },
  {
   "cell_type": "code",
   "execution_count": null,
   "id": "29fd266b",
   "metadata": {},
   "outputs": [],
   "source": [
    "4. Write a Python Program To Find ASCII value of a character?"
   ]
  },
  {
   "cell_type": "code",
   "execution_count": 29,
   "id": "4a544d37",
   "metadata": {},
   "outputs": [
    {
     "name": "stdout",
     "output_type": "stream",
     "text": [
      "The ASCII value of 's' is 115\n"
     ]
    }
   ],
   "source": [
    "c = 's'\n",
    "print(\"The ASCII value of '\" + c + \"' is\", ord(c))"
   ]
  },
  {
   "cell_type": "code",
   "execution_count": null,
   "id": "96160e91",
   "metadata": {},
   "outputs": [],
   "source": []
  },
  {
   "cell_type": "code",
   "execution_count": null,
   "id": "e5b912e7",
   "metadata": {},
   "outputs": [],
   "source": [
    "5. Write a Python Program to Make a Simple Calculator with 4 basic mathematical operations?"
   ]
  },
  {
   "cell_type": "code",
   "execution_count": 5,
   "id": "d4d4859d",
   "metadata": {},
   "outputs": [
    {
     "name": "stdout",
     "output_type": "stream",
     "text": [
      "enter a choice 1 for addision 2 for substraction 3 for multiplication 4 for division---2\n",
      "enter a no.3\n",
      "enter a no.5\n",
      "-2\n"
     ]
    }
   ],
   "source": [
    "a=int(input(\"enter a choice 1 for addision 2 for substraction 3 for multiplication 4 for division---\"))\n",
    "if a==1:\n",
    "    b=int(input(\"enter a no.\"))\n",
    "    c=int(input(\"enter a no.\"))\n",
    "    d=b+c\n",
    "    print(d)\n",
    "elif a==2:\n",
    "    b=int(input(\"enter a no.\"))\n",
    "    c=int(input(\"enter a no.\"))\n",
    "    d=b-c\n",
    "    print(d)\n",
    "elif a==3:\n",
    "    b=int(input(\"enter a no.\"))\n",
    "    c=int(input(\"enter a no.\"))\n",
    "    d=b*c\n",
    "    print(d)\n",
    "elif a==4:\n",
    "    b=int(input(\"enter a no.\"))\n",
    "    c=int(input(\"enter a no.\"))\n",
    "    d=b/c\n",
    "    print(d)\n",
    "    \n",
    "else:\n",
    "    print(\"you enter a wrong value\")\n",
    "    \n",
    "    "
   ]
  },
  {
   "cell_type": "code",
   "execution_count": null,
   "id": "bd200238",
   "metadata": {},
   "outputs": [],
   "source": []
  },
  {
   "cell_type": "code",
   "execution_count": null,
   "id": "42fdc80d",
   "metadata": {},
   "outputs": [],
   "source": []
  },
  {
   "cell_type": "code",
   "execution_count": null,
   "id": "dc06c49e",
   "metadata": {},
   "outputs": [],
   "source": []
  },
  {
   "cell_type": "code",
   "execution_count": null,
   "id": "2c9376d6",
   "metadata": {},
   "outputs": [],
   "source": []
  },
  {
   "cell_type": "code",
   "execution_count": null,
   "id": "4379418f",
   "metadata": {},
   "outputs": [],
   "source": []
  },
  {
   "cell_type": "code",
   "execution_count": null,
   "id": "0edf1f36",
   "metadata": {},
   "outputs": [],
   "source": []
  }
 ],
 "metadata": {
  "kernelspec": {
   "display_name": "Python 3 (ipykernel)",
   "language": "python",
   "name": "python3"
  },
  "language_info": {
   "codemirror_mode": {
    "name": "ipython",
    "version": 3
   },
   "file_extension": ".py",
   "mimetype": "text/x-python",
   "name": "python",
   "nbconvert_exporter": "python",
   "pygments_lexer": "ipython3",
   "version": "3.7.3"
  }
 },
 "nbformat": 4,
 "nbformat_minor": 5
}
