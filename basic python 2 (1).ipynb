{
 "cells": [
  {
   "cell_type": "markdown",
   "id": "1f990740",
   "metadata": {},
   "source": [
    "1.What are the two values of the Boolean data type? How do you write them?"
   ]
  },
  {
   "cell_type": "code",
   "execution_count": 19,
   "id": "c8ec9675",
   "metadata": {},
   "outputs": [
    {
     "ename": "SyntaxError",
     "evalue": "invalid syntax (Temp/ipykernel_16508/2101540226.py, line 1)",
     "output_type": "error",
     "traceback": [
      "\u001b[1;36m  File \u001b[1;32m\"C:\\Users\\SOUMAL~1\\AppData\\Local\\Temp/ipykernel_16508/2101540226.py\"\u001b[1;36m, line \u001b[1;32m1\u001b[0m\n\u001b[1;33m    Python boolean type is one of the built-in data types provided by Python, which represents one of\u001b[0m\n\u001b[1;37m                 ^\u001b[0m\n\u001b[1;31mSyntaxError\u001b[0m\u001b[1;31m:\u001b[0m invalid syntax\n"
     ]
    }
   ],
   "source": [
    "Python boolean type is one of the built-in data types provided by Python, which represents one of\n",
    "the two values i.e. True or False. Generally, it is used to represent the truth values of the \n",
    "expressions.\n",
    "\n",
    "true=TRUE\n",
    "false=FALSE\n"
   ]
  },
  {
   "cell_type": "code",
   "execution_count": null,
   "id": "d5494f4b",
   "metadata": {},
   "outputs": [],
   "source": []
  },
  {
   "cell_type": "markdown",
   "id": "395f21ae",
   "metadata": {},
   "source": [
    "2. What are the three different types of Boolean operators?"
   ]
  },
  {
   "cell_type": "code",
   "execution_count": null,
   "id": "bd34b89f",
   "metadata": {},
   "outputs": [],
   "source": [
    "Boolean Operators are simple words (AND, OR, NOT or AND NOT) used as conjunctions to combine or\n",
    "exclude keywords in a search, resulting in more focused and productive results. "
   ]
  },
  {
   "cell_type": "code",
   "execution_count": null,
   "id": "e19c836d",
   "metadata": {},
   "outputs": [],
   "source": []
  },
  {
   "cell_type": "markdown",
   "id": "fcb13d26",
   "metadata": {},
   "source": [
    "3. Make a list of each Boolean operator&#39;s truth tables (i.e. every possible combination of \n",
    "Boolean values for the operator and what it evaluate )."
   ]
  },
  {
   "cell_type": "code",
   "execution_count": null,
   "id": "2ec303e3",
   "metadata": {},
   "outputs": [],
   "source": []
  },
  {
   "cell_type": "code",
   "execution_count": null,
   "id": "ce545852",
   "metadata": {},
   "outputs": [],
   "source": [
    "4. What are the values of the following expressions?"
   ]
  },
  {
   "cell_type": "code",
   "execution_count": 26,
   "id": "a2574c3e",
   "metadata": {},
   "outputs": [
    {
     "data": {
      "text/plain": [
       "True"
      ]
     },
     "execution_count": 26,
     "metadata": {},
     "output_type": "execute_result"
    }
   ],
   "source": [
    "(5 > 4) and (3 == 5)      #false\n",
    "not (5 > 4)       #false\n",
    "(5 > 4) or (3 == 5)        #true\n",
    "not ((5 > 4) or (3 == 5))      #false\n",
    "(True and True) and (True == False)         #false\n",
    "(not False) or (not True)                #true"
   ]
  },
  {
   "cell_type": "code",
   "execution_count": null,
   "id": "681dc345",
   "metadata": {},
   "outputs": [],
   "source": []
  },
  {
   "cell_type": "markdown",
   "id": "cfe1c586",
   "metadata": {},
   "source": [
    "5. What are the six comparison operators?"
   ]
  },
  {
   "cell_type": "code",
   "execution_count": null,
   "id": "2f2e91fb",
   "metadata": {},
   "outputs": [],
   "source": [
    "Less than(<),\n",
    "Greater than(>), \n",
    "Less than or equal to(<=),\n",
    "Greater than or equal to(>=),\n",
    "Equal to(==) \n",
    "Not equal to (!=)."
   ]
  },
  {
   "cell_type": "code",
   "execution_count": null,
   "id": "13c3206d",
   "metadata": {},
   "outputs": [],
   "source": []
  },
  {
   "cell_type": "markdown",
   "id": "1276f99e",
   "metadata": {},
   "source": [
    "6. How do you tell the difference between the equal to and assignment operators?Describe a\n",
    "condition and when you would use one."
   ]
  },
  {
   "cell_type": "code",
   "execution_count": null,
   "id": "565a77b0",
   "metadata": {},
   "outputs": [],
   "source": [
    "the difference between equal to  and assignment is  (=) assignment operator is used to store a\n",
    "value into a variable.and the use of equal to is to comparison between two variables. and it is\n",
    "going to give us true or false as a value. \n",
    "\n",
    "\n",
    "\n",
    "\n",
    "if we want to assignment 5 to a variable a then we write\n",
    "a=5\n",
    "and \n",
    "if we want to comparison between if a is 5 then we write\n",
    "a==5"
   ]
  },
  {
   "cell_type": "code",
   "execution_count": null,
   "id": "c64b895a",
   "metadata": {},
   "outputs": [],
   "source": [
    "  "
   ]
  },
  {
   "cell_type": "markdown",
   "id": "53bf54c9",
   "metadata": {},
   "source": [
    "7. Identify the three blocks in this code:"
   ]
  },
  {
   "cell_type": "code",
   "execution_count": 40,
   "id": "30fdd1fe",
   "metadata": {},
   "outputs": [
    {
     "name": "stdout",
     "output_type": "stream",
     "text": [
      "ham\n",
      "spam\n",
      "spam\n"
     ]
    }
   ],
   "source": [
    "\n",
    "spam = 0\n",
    "if spam == 10:\n",
    "    print(\"eggs\")\n",
    "elif spam > 5:\n",
    "    print('bacon')\n",
    "else:\n",
    "    print('ham')\n",
    "    print('spam')\n",
    "    print('spam')"
   ]
  },
  {
   "cell_type": "code",
   "execution_count": null,
   "id": "892ab1a2",
   "metadata": {},
   "outputs": [],
   "source": []
  },
  {
   "cell_type": "markdown",
   "id": "a00d112a",
   "metadata": {},
   "source": [
    "9.If your programme is stuck in an endless loop, what keys you’ll press?"
   ]
  },
  {
   "cell_type": "code",
   "execution_count": null,
   "id": "30606fe9",
   "metadata": {},
   "outputs": [],
   "source": [
    "==>   Ctrl + C ."
   ]
  },
  {
   "cell_type": "code",
   "execution_count": null,
   "id": "d83c4ef4",
   "metadata": {},
   "outputs": [],
   "source": []
  },
  {
   "cell_type": "markdown",
   "id": "42fdfcb4",
   "metadata": {},
   "source": [
    "10. How can you tell the difference between break and continue?\n"
   ]
  },
  {
   "cell_type": "code",
   "execution_count": null,
   "id": "ddd5d2c3",
   "metadata": {},
   "outputs": [],
   "source": [
    "break= this is used to break a loop. and then the control statement is going to the end of the \n",
    "loop.\n",
    " \n",
    "continue= this is used to skip the particular loop result.and the control again goes to the loop \n",
    "conditon.\n",
    "    "
   ]
  },
  {
   "cell_type": "code",
   "execution_count": null,
   "id": "ae582784",
   "metadata": {},
   "outputs": [],
   "source": []
  },
  {
   "cell_type": "markdown",
   "id": "c0ae2eaf",
   "metadata": {},
   "source": [
    "11. In a for loop, what is the difference between range(10), range(0, 10), and range(0, 10, 1)?"
   ]
  },
  {
   "cell_type": "code",
   "execution_count": null,
   "id": "7bddc6c6",
   "metadata": {},
   "outputs": [],
   "source": [
    "  there is no differents between these three functions. range function by default takes the \n",
    "starting value as 0 and stepsize = 1."
   ]
  },
  {
   "cell_type": "code",
   "execution_count": null,
   "id": "9e652e1f",
   "metadata": {},
   "outputs": [],
   "source": []
  },
  {
   "cell_type": "markdown",
   "id": "5aca5ed4",
   "metadata": {},
   "source": [
    "12. Write a short program that prints the numbers 1 to 10 using a for loop. Then write an \n",
    "equivalent program that prints the numbers 1 to 10 using a while loop."
   ]
  },
  {
   "cell_type": "code",
   "execution_count": 41,
   "id": "225d2e0d",
   "metadata": {},
   "outputs": [
    {
     "name": "stdout",
     "output_type": "stream",
     "text": [
      "0\n",
      "1\n",
      "2\n",
      "3\n",
      "4\n",
      "5\n",
      "6\n",
      "7\n",
      "8\n",
      "9\n"
     ]
    }
   ],
   "source": [
    "for i in range(10):\n",
    "    print(i)"
   ]
  },
  {
   "cell_type": "code",
   "execution_count": 42,
   "id": "1b59fc09",
   "metadata": {},
   "outputs": [
    {
     "name": "stdout",
     "output_type": "stream",
     "text": [
      "0\n",
      "1\n",
      "2\n",
      "3\n",
      "4\n",
      "5\n",
      "6\n",
      "7\n",
      "8\n",
      "9\n"
     ]
    }
   ],
   "source": [
    "i=0\n",
    "while i< 10:\n",
    "    print(i)\n",
    "    i=i+1"
   ]
  },
  {
   "cell_type": "code",
   "execution_count": null,
   "id": "fd02a02c",
   "metadata": {},
   "outputs": [],
   "source": []
  },
  {
   "cell_type": "code",
   "execution_count": null,
   "id": "5cc53409",
   "metadata": {},
   "outputs": [],
   "source": [
    "13. If you had a function named bacon() inside a module named spam, how would you call it after\n",
    "importing spam?"
   ]
  },
  {
   "cell_type": "code",
   "execution_count": null,
   "id": "034e51e7",
   "metadata": {},
   "outputs": [],
   "source": [
    "==>    spam.bacon()"
   ]
  },
  {
   "cell_type": "code",
   "execution_count": null,
   "id": "c7427576",
   "metadata": {},
   "outputs": [],
   "source": []
  },
  {
   "cell_type": "code",
   "execution_count": null,
   "id": "c0d5f55b",
   "metadata": {},
   "outputs": [],
   "source": []
  }
 ],
 "metadata": {
  "kernelspec": {
   "display_name": "Python 3 (ipykernel)",
   "language": "python",
   "name": "python3"
  },
  "language_info": {
   "codemirror_mode": {
    "name": "ipython",
    "version": 3
   },
   "file_extension": ".py",
   "mimetype": "text/x-python",
   "name": "python",
   "nbconvert_exporter": "python",
   "pygments_lexer": "ipython3",
   "version": "3.7.3"
  }
 },
 "nbformat": 4,
 "nbformat_minor": 5
}
