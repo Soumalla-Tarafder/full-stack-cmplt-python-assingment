{
 "cells": [
  {
   "cell_type": "code",
   "execution_count": null,
   "id": "d32a9ed9",
   "metadata": {},
   "outputs": [],
   "source": [
    "1. Write a Python program to check if the given number is a Disarium Number?"
   ]
  },
  {
   "cell_type": "code",
   "execution_count": 14,
   "id": "cc1b04e0",
   "metadata": {},
   "outputs": [
    {
     "name": "stdout",
     "output_type": "stream",
     "text": [
      "enter a no.175\n",
      "175 is a disarium number\n"
     ]
    }
   ],
   "source": [
    "def calculateLength(n):    \n",
    "    length = 0;    \n",
    "    while(n != 0):    \n",
    "        length = length + 1;    \n",
    "        n = n//10;    \n",
    "    return length;    \n",
    "     \n",
    "num = int(input(\"enter a no.\"))    \n",
    "rem = sum = 0;    \n",
    "len = calculateLength(num);    \n",
    "   \n",
    "n = num;    \n",
    "     \n",
    "  \n",
    "while(num > 0):    \n",
    "    rem = num%10;    \n",
    "    sum = sum + int(rem**len);    \n",
    "    num = num//10;    \n",
    "    len = len - 1;    \n",
    "     \n",
    "  \n",
    "if(sum == n):    \n",
    "    print(str(n) + \" is a disarium number\");    \n",
    "else:    \n",
    "    print(str(n) + \" is not a disarium number\"); "
   ]
  },
  {
   "cell_type": "code",
   "execution_count": null,
   "id": "8bbd081a",
   "metadata": {},
   "outputs": [],
   "source": [
    "2. Write a Python program to print all disarium numbers between 1 to 100?"
   ]
  },
  {
   "cell_type": "code",
   "execution_count": 23,
   "id": "e6a881fc",
   "metadata": {},
   "outputs": [
    {
     "ename": "IndentationError",
     "evalue": "unindent does not match any outer indentation level (<tokenize>, line 20)",
     "output_type": "error",
     "traceback": [
      "\u001b[1;36m  File \u001b[1;32m\"<tokenize>\"\u001b[1;36m, line \u001b[1;32m20\u001b[0m\n\u001b[1;33m    if(sum == n):\u001b[0m\n\u001b[1;37m    ^\u001b[0m\n\u001b[1;31mIndentationError\u001b[0m\u001b[1;31m:\u001b[0m unindent does not match any outer indentation level\n"
     ]
    }
   ],
   "source": [
    "def calculateLength(n):    \n",
    "    length = 0;    \n",
    "    while(n != 0):    \n",
    "        length = length + 1;    \n",
    "        n = n//10;    \n",
    "    return length;    \n",
    "for i in range(1,100,1):\n",
    "     num = i    \n",
    "     rem = sum = 0;    \n",
    "     len = calculateLength(num);    \n",
    "\n",
    "     n = num;  \n",
    "     while(num > 0): \n",
    "            \n",
    "           rem = num%10;    \n",
    "           sum = sum + int(rem**len);    \n",
    "           num = num//10;    \n",
    "            len = len - 1;    \n",
    "\n",
    "\n",
    "    if(sum == n):    \n",
    "            print(str(n) + \" is a disarium number\");    \n",
    "    else:    \n",
    "         print(str(n) + \" is not a disarium number\"); \n",
    "           \n",
    "          \n",
    "\n",
    "\n",
    "        "
   ]
  },
  {
   "cell_type": "code",
   "execution_count": null,
   "id": "d81e1a3d",
   "metadata": {},
   "outputs": [],
   "source": [
    "3. Write a Python program to check if the given number is Happy Number?"
   ]
  },
  {
   "cell_type": "code",
   "execution_count": null,
   "id": "1b8449a7",
   "metadata": {},
   "outputs": [],
   "source": [
    "       "
   ]
  },
  {
   "cell_type": "code",
   "execution_count": null,
   "id": "8a79e937",
   "metadata": {},
   "outputs": [],
   "source": [
    "\n",
    "4. Write a Python program to print all happy numbers between 1 and 100?"
   ]
  },
  {
   "cell_type": "code",
   "execution_count": null,
   "id": "31b6017f",
   "metadata": {},
   "outputs": [],
   "source": []
  },
  {
   "cell_type": "code",
   "execution_count": null,
   "id": "e777bcb9",
   "metadata": {},
   "outputs": [],
   "source": [
    "5. Write a Python program to determine whether the given number is a Harshad Number?"
   ]
  },
  {
   "cell_type": "code",
   "execution_count": 29,
   "id": "df523b93",
   "metadata": {},
   "outputs": [
    {
     "name": "stdout",
     "output_type": "stream",
     "text": [
      "157 is not a harshad number\n"
     ]
    }
   ],
   "source": [
    "num = 157;    \n",
    "rem = sum = 0;    \n",
    "n = num;    \n",
    "while(num > 0):  \n",
    "    rem = num%10;    \n",
    "    sum = sum + rem;    \n",
    "    num = num//10;    \n",
    "     \n",
    "    \n",
    "if(n%sum == 0):    \n",
    "    print(str(n) + \" is a harshad number\");    \n",
    "else:    \n",
    "    print(str(n) + \" is not a harshad number\"); "
   ]
  },
  {
   "cell_type": "code",
   "execution_count": null,
   "id": "2308be10",
   "metadata": {},
   "outputs": [],
   "source": [
    "6. Write a Python program to print all pronic numbers between 1 and 100?"
   ]
  },
  {
   "cell_type": "code",
   "execution_count": 32,
   "id": "19eca70f",
   "metadata": {},
   "outputs": [
    {
     "name": "stdout",
     "output_type": "stream",
     "text": [
      "1 is a harshad number\n",
      "2 is a harshad number\n",
      "3 is a harshad number\n",
      "4 is a harshad number\n",
      "5 is a harshad number\n",
      "6 is a harshad number\n",
      "7 is a harshad number\n",
      "8 is a harshad number\n",
      "9 is a harshad number\n",
      "10 is a harshad number\n",
      "11 is not a harshad number\n",
      "12 is a harshad number\n",
      "13 is not a harshad number\n",
      "14 is not a harshad number\n",
      "15 is not a harshad number\n",
      "16 is not a harshad number\n",
      "17 is not a harshad number\n",
      "18 is a harshad number\n",
      "19 is not a harshad number\n",
      "20 is a harshad number\n",
      "21 is a harshad number\n",
      "22 is not a harshad number\n",
      "23 is not a harshad number\n",
      "24 is a harshad number\n",
      "25 is not a harshad number\n",
      "26 is not a harshad number\n",
      "27 is a harshad number\n",
      "28 is not a harshad number\n",
      "29 is not a harshad number\n",
      "30 is a harshad number\n",
      "31 is not a harshad number\n",
      "32 is not a harshad number\n",
      "33 is not a harshad number\n",
      "34 is not a harshad number\n",
      "35 is not a harshad number\n",
      "36 is a harshad number\n",
      "37 is not a harshad number\n",
      "38 is not a harshad number\n",
      "39 is not a harshad number\n",
      "40 is a harshad number\n",
      "41 is not a harshad number\n",
      "42 is a harshad number\n",
      "43 is not a harshad number\n",
      "44 is not a harshad number\n",
      "45 is a harshad number\n",
      "46 is not a harshad number\n",
      "47 is not a harshad number\n",
      "48 is a harshad number\n",
      "49 is not a harshad number\n",
      "50 is a harshad number\n",
      "51 is not a harshad number\n",
      "52 is not a harshad number\n",
      "53 is not a harshad number\n",
      "54 is a harshad number\n",
      "55 is not a harshad number\n",
      "56 is not a harshad number\n",
      "57 is not a harshad number\n",
      "58 is not a harshad number\n",
      "59 is not a harshad number\n",
      "60 is a harshad number\n",
      "61 is not a harshad number\n",
      "62 is not a harshad number\n",
      "63 is a harshad number\n",
      "64 is not a harshad number\n",
      "65 is not a harshad number\n",
      "66 is not a harshad number\n",
      "67 is not a harshad number\n",
      "68 is not a harshad number\n",
      "69 is not a harshad number\n",
      "70 is a harshad number\n",
      "71 is not a harshad number\n",
      "72 is a harshad number\n",
      "73 is not a harshad number\n",
      "74 is not a harshad number\n",
      "75 is not a harshad number\n",
      "76 is not a harshad number\n",
      "77 is not a harshad number\n",
      "78 is not a harshad number\n",
      "79 is not a harshad number\n",
      "80 is a harshad number\n",
      "81 is a harshad number\n",
      "82 is not a harshad number\n",
      "83 is not a harshad number\n",
      "84 is a harshad number\n",
      "85 is not a harshad number\n",
      "86 is not a harshad number\n",
      "87 is not a harshad number\n",
      "88 is not a harshad number\n",
      "89 is not a harshad number\n",
      "90 is a harshad number\n",
      "91 is not a harshad number\n",
      "92 is not a harshad number\n",
      "93 is not a harshad number\n",
      "94 is not a harshad number\n",
      "95 is not a harshad number\n",
      "96 is not a harshad number\n",
      "97 is not a harshad number\n",
      "98 is not a harshad number\n",
      "99 is not a harshad number\n",
      "100 is a harshad number\n"
     ]
    }
   ],
   "source": [
    "for i in range(1,101,1):\n",
    "    num = i;    \n",
    "    rem = sum = 0;    \n",
    "    n = num;    \n",
    "    while(num > 0):  \n",
    "        rem = num%10;    \n",
    "        sum = sum + rem;    \n",
    "        num = num//10;    \n",
    "     \n",
    "    \n",
    "    if(n%sum == 0):    \n",
    "        print(str(n) + \" is a harshad number\");    \n",
    "    else:    \n",
    "        print(str(n) + \" is not a harshad number\"); \n",
    "    "
   ]
  },
  {
   "cell_type": "code",
   "execution_count": null,
   "id": "276ea3a0",
   "metadata": {},
   "outputs": [],
   "source": []
  },
  {
   "cell_type": "code",
   "execution_count": null,
   "id": "c7a84651",
   "metadata": {},
   "outputs": [],
   "source": []
  },
  {
   "cell_type": "code",
   "execution_count": null,
   "id": "f76cabdb",
   "metadata": {},
   "outputs": [],
   "source": []
  },
  {
   "cell_type": "code",
   "execution_count": null,
   "id": "d7c4fa4a",
   "metadata": {},
   "outputs": [],
   "source": []
  },
  {
   "cell_type": "code",
   "execution_count": null,
   "id": "927c0bad",
   "metadata": {},
   "outputs": [],
   "source": []
  }
 ],
 "metadata": {
  "kernelspec": {
   "display_name": "Python 3 (ipykernel)",
   "language": "python",
   "name": "python3"
  },
  "language_info": {
   "codemirror_mode": {
    "name": "ipython",
    "version": 3
   },
   "file_extension": ".py",
   "mimetype": "text/x-python",
   "name": "python",
   "nbconvert_exporter": "python",
   "pygments_lexer": "ipython3",
   "version": "3.7.3"
  }
 },
 "nbformat": 4,
 "nbformat_minor": 5
}
