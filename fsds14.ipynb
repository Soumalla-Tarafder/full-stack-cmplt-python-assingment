{
 "cells": [
  {
   "cell_type": "code",
   "execution_count": null,
   "id": "27fc1766",
   "metadata": {},
   "outputs": [],
   "source": [
    "1. To what does a relative path refer?"
   ]
  },
  {
   "cell_type": "code",
   "execution_count": null,
   "id": "09691413",
   "metadata": {},
   "outputs": [],
   "source": [
    "a location that is relative to a current directory. "
   ]
  },
  {
   "cell_type": "code",
   "execution_count": null,
   "id": "7f4fb0b9",
   "metadata": {},
   "outputs": [],
   "source": [
    "2. What does an absolute path start with your operating system?"
   ]
  },
  {
   "cell_type": "code",
   "execution_count": null,
   "id": "e9ea323b",
   "metadata": {},
   "outputs": [],
   "source": [
    "starting from the root element and ending with the other subdirectories. "
   ]
  },
  {
   "cell_type": "code",
   "execution_count": null,
   "id": "38da05d2",
   "metadata": {},
   "outputs": [],
   "source": [
    "3. What do the functions os.getcwd() and os.chdir() do?"
   ]
  },
  {
   "cell_type": "code",
   "execution_count": null,
   "id": "0812ea8c",
   "metadata": {},
   "outputs": [],
   "source": [
    "os.getcwd--> it returns the present working directory.\n",
    "os.chdir --> this func. used to change directory to one to another."
   ]
  },
  {
   "cell_type": "code",
   "execution_count": null,
   "id": "c77cfb17",
   "metadata": {},
   "outputs": [],
   "source": [
    "4. What are the . and .. folders?"
   ]
  },
  {
   "cell_type": "code",
   "execution_count": null,
   "id": "1d40b7d0",
   "metadata": {},
   "outputs": [],
   "source": []
  },
  {
   "cell_type": "code",
   "execution_count": null,
   "id": "f7db7b7f",
   "metadata": {},
   "outputs": [],
   "source": [
    "5. In C:\\bacon\\eggs\\spam.txt, which part is the dir name, and which part is the base name?"
   ]
  },
  {
   "cell_type": "code",
   "execution_count": null,
   "id": "76b74d1b",
   "metadata": {},
   "outputs": [],
   "source": [
    "the directory name is -->C:\\bacon\\eggs\\\n",
    "base name-->spam.txt.    "
   ]
  },
  {
   "cell_type": "code",
   "execution_count": null,
   "id": "a31ecba4",
   "metadata": {},
   "outputs": [],
   "source": [
    "6. What are the three “mode” arguments that can be passed to the open() function?"
   ]
  },
  {
   "cell_type": "code",
   "execution_count": null,
   "id": "bc1c03f4",
   "metadata": {},
   "outputs": [],
   "source": [
    "there are three modes...1. write(w)  2. read(r)   3.append(a)."
   ]
  },
  {
   "cell_type": "code",
   "execution_count": null,
   "id": "3e5768d5",
   "metadata": {},
   "outputs": [],
   "source": [
    "7. What happens if an existing file is opened in write mode?"
   ]
  },
  {
   "cell_type": "code",
   "execution_count": null,
   "id": "2c791a61",
   "metadata": {},
   "outputs": [],
   "source": [
    "it will replace the existing content of the file."
   ]
  },
  {
   "cell_type": "code",
   "execution_count": null,
   "id": "7562bd79",
   "metadata": {},
   "outputs": [],
   "source": [
    "8. How do you tell the difference between read() and readlines()?"
   ]
  },
  {
   "cell_type": "code",
   "execution_count": null,
   "id": "9b653a9d",
   "metadata": {},
   "outputs": [],
   "source": [
    "read() function read character one by one.\n",
    "readline() function read a line from the console."
   ]
  },
  {
   "cell_type": "code",
   "execution_count": null,
   "id": "109e65a1",
   "metadata": {},
   "outputs": [],
   "source": [
    "9. What data structure does a shelf value resemble?"
   ]
  },
  {
   "cell_type": "code",
   "execution_count": null,
   "id": "dce055b9",
   "metadata": {},
   "outputs": [],
   "source": [
    "A shelf value resembles a dictionary value, it has keys and values, along with keys() and \n",
    "values() methods that work similarly to the dictionary methods of the same names."
   ]
  }
 ],
 "metadata": {
  "kernelspec": {
   "display_name": "Python 3 (ipykernel)",
   "language": "python",
   "name": "python3"
  },
  "language_info": {
   "codemirror_mode": {
    "name": "ipython",
    "version": 3
   },
   "file_extension": ".py",
   "mimetype": "text/x-python",
   "name": "python",
   "nbconvert_exporter": "python",
   "pygments_lexer": "ipython3",
   "version": "3.7.3"
  }
 },
 "nbformat": 4,
 "nbformat_minor": 5
}
