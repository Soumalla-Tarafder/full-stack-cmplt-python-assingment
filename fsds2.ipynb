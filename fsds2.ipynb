{
 "cells": [
  {
   "cell_type": "code",
   "execution_count": null,
   "id": "bd32e11e",
   "metadata": {},
   "outputs": [],
   "source": [
    "1. Write a Python Program to Find the Factorial of a Number?"
   ]
  },
  {
   "cell_type": "code",
   "execution_count": 2,
   "id": "df37fb84",
   "metadata": {},
   "outputs": [
    {
     "name": "stdout",
     "output_type": "stream",
     "text": [
      "enter a no.6\n",
      "720\n"
     ]
    }
   ],
   "source": [
    "d=int(input(\"enter a no.\"))\n",
    "s=1\n",
    "for i in range(1,d+1,1):\n",
    "    s=s*i\n",
    "print(s)    "
   ]
  },
  {
   "cell_type": "code",
   "execution_count": null,
   "id": "ad854255",
   "metadata": {},
   "outputs": [],
   "source": [
    "2. Write a Python Program to Display the multiplication Table?"
   ]
  },
  {
   "cell_type": "code",
   "execution_count": 3,
   "id": "c611b89e",
   "metadata": {},
   "outputs": [
    {
     "name": "stdout",
     "output_type": "stream",
     "text": [
      "enter a no.6\n",
      "6 * 0= 0\n",
      "6 * 1= 6\n",
      "6 * 2= 12\n",
      "6 * 3= 18\n",
      "6 * 4= 24\n",
      "6 * 5= 30\n",
      "6 * 6= 36\n",
      "6 * 7= 42\n",
      "6 * 8= 48\n",
      "6 * 9= 54\n",
      "6 * 10= 60\n"
     ]
    }
   ],
   "source": [
    "d=int(input(\"enter a no.\"))\n",
    "for i in range(11):\n",
    "    c=d*i\n",
    "    print(\"{} * {}= {}\".format(d,i,c))"
   ]
  },
  {
   "cell_type": "code",
   "execution_count": null,
   "id": "b126151e",
   "metadata": {},
   "outputs": [],
   "source": [
    "3. Write a Python Program to Print the Fibonacci sequence?"
   ]
  },
  {
   "cell_type": "code",
   "execution_count": 5,
   "id": "2cbfb76a",
   "metadata": {},
   "outputs": [
    {
     "name": "stdout",
     "output_type": "stream",
     "text": [
      "enter a range5\n",
      "[0, 1, 1, 2, 3, 5, 8, 13]\n"
     ]
    }
   ],
   "source": [
    "d=int(input(\"enter a range\"))\n",
    "a=0\n",
    "b=1\n",
    "l=[0,1]\n",
    "for i in range(d+1):\n",
    "   c=l[-1] + l[-2]\n",
    "   l.append(c)\n",
    "print(l)    \n",
    "    "
   ]
  },
  {
   "cell_type": "code",
   "execution_count": null,
   "id": "14b8f96c",
   "metadata": {},
   "outputs": [],
   "source": []
  },
  {
   "cell_type": "code",
   "execution_count": null,
   "id": "01a46b12",
   "metadata": {},
   "outputs": [],
   "source": [
    "4. Write a Python Program to Check Armstrong Number?"
   ]
  },
  {
   "cell_type": "code",
   "execution_count": 13,
   "id": "ad56d5fd",
   "metadata": {},
   "outputs": [
    {
     "name": "stdout",
     "output_type": "stream",
     "text": [
      "enter a number----12321\n",
      "amstorng\n"
     ]
    }
   ],
   "source": [
    "s=int(input(\"enter a number----\"))\n",
    "n=str(s)\n",
    "if n[::1] == n[::-1]:\n",
    "    print(\"amstorng\")\n",
    "else:\n",
    "    print(\"not amstorng\")"
   ]
  },
  {
   "cell_type": "code",
   "execution_count": null,
   "id": "7e99a03a",
   "metadata": {},
   "outputs": [],
   "source": []
  },
  {
   "cell_type": "code",
   "execution_count": null,
   "id": "21aa840f",
   "metadata": {},
   "outputs": [],
   "source": [
    "5. Write a Python Program to Find Armstrong Number in an Interval?"
   ]
  },
  {
   "cell_type": "code",
   "execution_count": 27,
   "id": "6bfc1c1d",
   "metadata": {},
   "outputs": [
    {
     "name": "stdout",
     "output_type": "stream",
     "text": [
      "enter a value153\n",
      "armstrong\n"
     ]
    }
   ],
   "source": [
    "a=int(input(\"enter a value\"))\n",
    "b=a\n",
    "c=str(a)\n",
    "sum=0\n",
    "for i in range(len(c)):\n",
    "    su=1\n",
    "    for j in range(len(c)):\n",
    "        su=su*int(c[i])\n",
    "    sum=sum+su\n",
    "if b==sum:\n",
    "    print(\"armstrong\")\n",
    "else:\n",
    "    print(\"not armstrong\")"
   ]
  },
  {
   "cell_type": "code",
   "execution_count": null,
   "id": "128c79dd",
   "metadata": {},
   "outputs": [],
   "source": [
    "6. Write a Python Program to Find the Sum of Natural Numbers?"
   ]
  },
  {
   "cell_type": "code",
   "execution_count": 17,
   "id": "878d183c",
   "metadata": {},
   "outputs": [
    {
     "name": "stdout",
     "output_type": "stream",
     "text": [
      "enter any natural number1\n",
      "enter any natural number2\n",
      "enter any natural number3\n",
      "enter any natural number4\n",
      "enter any natural number5\n",
      "the sum of all the natural number is = 15\n"
     ]
    }
   ],
   "source": [
    "s=0\n",
    "for i in range(5):\n",
    "    a=int(input(\"enter any natural number\"))\n",
    "    s=s+a\n",
    "print(\"the sum of all the natural number is = {}\".format(s))    "
   ]
  },
  {
   "cell_type": "code",
   "execution_count": null,
   "id": "9400a24f",
   "metadata": {},
   "outputs": [],
   "source": []
  },
  {
   "cell_type": "code",
   "execution_count": null,
   "id": "1d7f2ef0",
   "metadata": {},
   "outputs": [],
   "source": []
  },
  {
   "cell_type": "code",
   "execution_count": null,
   "id": "9de7ba56",
   "metadata": {},
   "outputs": [],
   "source": []
  }
 ],
 "metadata": {
  "kernelspec": {
   "display_name": "Python 3 (ipykernel)",
   "language": "python",
   "name": "python3"
  },
  "language_info": {
   "codemirror_mode": {
    "name": "ipython",
    "version": 3
   },
   "file_extension": ".py",
   "mimetype": "text/x-python",
   "name": "python",
   "nbconvert_exporter": "python",
   "pygments_lexer": "ipython3",
   "version": "3.7.3"
  }
 },
 "nbformat": 4,
 "nbformat_minor": 5
}
