{
 "cells": [
  {
   "cell_type": "code",
   "execution_count": null,
   "id": "8a394af6",
   "metadata": {},
   "outputs": [],
   "source": [
    "1. What does an empty dictionary's code look like?"
   ]
  },
  {
   "cell_type": "code",
   "execution_count": 1,
   "id": "fec76a5f",
   "metadata": {},
   "outputs": [],
   "source": [
    "item={}"
   ]
  },
  {
   "cell_type": "code",
   "execution_count": null,
   "id": "4fba7903",
   "metadata": {},
   "outputs": [],
   "source": [
    "2. What is the value of a dictionary value with the key 'foo 'and the value 42?"
   ]
  },
  {
   "cell_type": "code",
   "execution_count": 3,
   "id": "dbc31e18",
   "metadata": {},
   "outputs": [
    {
     "data": {
      "text/plain": [
       "{'foo': 42}"
      ]
     },
     "execution_count": 3,
     "metadata": {},
     "output_type": "execute_result"
    }
   ],
   "source": [
    "item={'foo' : 42}\n",
    "item"
   ]
  },
  {
   "cell_type": "code",
   "execution_count": null,
   "id": "b191e4f8",
   "metadata": {},
   "outputs": [],
   "source": [
    "3. What is the most significant distinction between a dictionary and a list?"
   ]
  },
  {
   "cell_type": "code",
   "execution_count": null,
   "id": "d58edc80",
   "metadata": {},
   "outputs": [],
   "source": [
    "the main difference is that items in dictionaries are accessed via keys .\n",
    "and the list elements are access by their indexes."
   ]
  },
  {
   "cell_type": "code",
   "execution_count": null,
   "id": "4162a60e",
   "metadata": {},
   "outputs": [],
   "source": [
    "4. What happens if you try to access spam[\"far\"] if spam is {\"bar\": 100}?"
   ]
  },
  {
   "cell_type": "code",
   "execution_count": 4,
   "id": "1bcd7373",
   "metadata": {},
   "outputs": [
    {
     "ename": "KeyError",
     "evalue": "'far'",
     "output_type": "error",
     "traceback": [
      "\u001b[1;31m---------------------------------------------------------------------------\u001b[0m",
      "\u001b[1;31mKeyError\u001b[0m                                  Traceback (most recent call last)",
      "\u001b[1;32mC:\\Users\\SOUMAL~1\\AppData\\Local\\Temp/ipykernel_20084/460433887.py\u001b[0m in \u001b[0;36m<module>\u001b[1;34m\u001b[0m\n\u001b[0;32m      1\u001b[0m \u001b[0mspam\u001b[0m \u001b[1;33m=\u001b[0m \u001b[1;33m{\u001b[0m\u001b[1;34m\"bar\"\u001b[0m\u001b[1;33m:\u001b[0m \u001b[1;36m100\u001b[0m\u001b[1;33m}\u001b[0m\u001b[1;33m\u001b[0m\u001b[1;33m\u001b[0m\u001b[0m\n\u001b[1;32m----> 2\u001b[1;33m \u001b[0mspam\u001b[0m\u001b[1;33m[\u001b[0m\u001b[1;34m'far'\u001b[0m\u001b[1;33m]\u001b[0m\u001b[1;33m\u001b[0m\u001b[1;33m\u001b[0m\u001b[0m\n\u001b[0m",
      "\u001b[1;31mKeyError\u001b[0m: 'far'"
     ]
    }
   ],
   "source": [
    "spam = {\"bar\": 100}\n",
    "spam['far'] ==> it shows a keyerror [KeyError]."
   ]
  },
  {
   "cell_type": "code",
   "execution_count": null,
   "id": "f1601c7d",
   "metadata": {},
   "outputs": [],
   "source": [
    "5. If a dictionary is stored in spam, what is the difference between the expressions 'cat' in\n",
    "spam and 'cat' in spam.keys()?"
   ]
  },
  {
   "cell_type": "code",
   "execution_count": 16,
   "id": "1a0732a6",
   "metadata": {},
   "outputs": [
    {
     "data": {
      "text/plain": [
       "True"
      ]
     },
     "execution_count": 16,
     "metadata": {},
     "output_type": "execute_result"
    }
   ],
   "source": [
    "spam={\"cat\":100}\n",
    "\"cat\" in spam #==> it gives TRUE.\n",
    "\"cat\" in spam.keys() #==>  gives boolean variable   [TRUE]"
   ]
  },
  {
   "cell_type": "markdown",
   "id": "927b6806",
   "metadata": {},
   "source": [
    "6. If a dictionary is stored in spam, what is the difference between the expressions 'cat 'in\n",
    "spam and 'cat' in spam.values()?"
   ]
  },
  {
   "cell_type": "code",
   "execution_count": 15,
   "id": "d934f54b",
   "metadata": {},
   "outputs": [
    {
     "data": {
      "text/plain": [
       "True"
      ]
     },
     "execution_count": 15,
     "metadata": {},
     "output_type": "execute_result"
    }
   ],
   "source": [
    "spam={\"cat\":100}\n",
    "\"cat\" in spam #==> it gives TRUE.\n",
    "\"cat\" in spam.values() #==> it gives FALSE."
   ]
  },
  {
   "cell_type": "code",
   "execution_count": null,
   "id": "433a6f59",
   "metadata": {},
   "outputs": [],
   "source": [
    "7. What is a shortcut for the following code?\n",
    "if 'color' not in spam:\n",
    "spam['color'] = 'black'"
   ]
  },
  {
   "cell_type": "code",
   "execution_count": 29,
   "id": "3845d54d",
   "metadata": {},
   "outputs": [
    {
     "ename": "SyntaxError",
     "evalue": "invalid syntax (Temp/ipykernel_20084/2053080969.py, line 1)",
     "output_type": "error",
     "traceback": [
      "\u001b[1;36m  File \u001b[1;32m\"C:\\Users\\SOUMAL~1\\AppData\\Local\\Temp/ipykernel_20084/2053080969.py\"\u001b[1;36m, line \u001b[1;32m1\u001b[0m\n\u001b[1;33m    lambda (spam.color = 'black'): if 'color not in spam'\u001b[0m\n\u001b[1;37m           ^\u001b[0m\n\u001b[1;31mSyntaxError\u001b[0m\u001b[1;31m:\u001b[0m invalid syntax\n"
     ]
    }
   ],
   "source": [
    "\n",
    "lambda (spam.color = 'black'): if 'color not in spam'"
   ]
  },
  {
   "cell_type": "code",
   "execution_count": null,
   "id": "985bcfcb",
   "metadata": {},
   "outputs": [],
   "source": [
    "8. How do you 'pretty print' dictionary values using which module and function?"
   ]
  },
  {
   "cell_type": "code",
   "execution_count": 33,
   "id": "e9e33aa5",
   "metadata": {},
   "outputs": [
    {
     "name": "stdout",
     "output_type": "stream",
     "text": [
      "{'bar': 100}\n"
     ]
    }
   ],
   "source": [
    "The pprint module.\n",
    "import pprint\n",
    "\n",
    "spam = {\"bar\": 100}\n",
    "pprint.pprint(spam)"
   ]
  },
  {
   "cell_type": "code",
   "execution_count": null,
   "id": "159f4ea4",
   "metadata": {},
   "outputs": [],
   "source": []
  },
  {
   "cell_type": "code",
   "execution_count": null,
   "id": "4eccc077",
   "metadata": {},
   "outputs": [],
   "source": []
  },
  {
   "cell_type": "code",
   "execution_count": null,
   "id": "ee9697ea",
   "metadata": {},
   "outputs": [],
   "source": []
  },
  {
   "cell_type": "code",
   "execution_count": null,
   "id": "d54f10c6",
   "metadata": {},
   "outputs": [],
   "source": []
  }
 ],
 "metadata": {
  "kernelspec": {
   "display_name": "Python 3 (ipykernel)",
   "language": "python",
   "name": "python3"
  },
  "language_info": {
   "codemirror_mode": {
    "name": "ipython",
    "version": 3
   },
   "file_extension": ".py",
   "mimetype": "text/x-python",
   "name": "python",
   "nbconvert_exporter": "python",
   "pygments_lexer": "ipython3",
   "version": "3.7.3"
  }
 },
 "nbformat": 4,
 "nbformat_minor": 5
}
