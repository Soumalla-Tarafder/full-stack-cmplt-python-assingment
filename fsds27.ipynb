{
 "cells": [
  {
   "cell_type": "code",
   "execution_count": null,
   "id": "67ff870e",
   "metadata": {},
   "outputs": [],
   "source": [
    "Q1. Describe three applications for exception processing."
   ]
  },
  {
   "cell_type": "code",
   "execution_count": null,
   "id": "c2365dd4",
   "metadata": {},
   "outputs": [],
   "source": [
    "ModuleNotFoundError. The ModuleNotFoundError is thrown when a module could not be found\n",
    "divisible by zero.   throws when we want to divide a calue by 0\n",
    "IndexError.          The IndexError is thrown when trying to access an item at an invalid index."
   ]
  },
  {
   "cell_type": "code",
   "execution_count": null,
   "id": "6dfdf967",
   "metadata": {},
   "outputs": [],
   "source": [
    "Q2. What happens if you don\"t do something extra to treat an exception?"
   ]
  },
  {
   "cell_type": "code",
   "execution_count": null,
   "id": "6dfff2b2",
   "metadata": {},
   "outputs": [],
   "source": [
    "if we dont define a esception handaler then compiler throws a error message with a name which \n",
    "type of error this is. nut wedefine a exception handling methinf our exception will solve if we a \n",
    "define a method to handle those errors."
   ]
  },
  {
   "cell_type": "code",
   "execution_count": null,
   "id": "beb75017",
   "metadata": {},
   "outputs": [],
   "source": [
    "Q3. What are your options for recovering from an exception in your script?"
   ]
  },
  {
   "cell_type": "code",
   "execution_count": null,
   "id": "c1e35d98",
   "metadata": {},
   "outputs": [],
   "source": [
    "Try and except statements are used to catch and handle exceptions in Python. Statements that can\n",
    "raise exceptions are kept inside the try clause and the statements that handle the exception are \n",
    "written inside except clause."
   ]
  },
  {
   "cell_type": "code",
   "execution_count": null,
   "id": "8951e4d5",
   "metadata": {},
   "outputs": [],
   "source": [
    "Q4. Describe two methods for triggering exceptions in your script."
   ]
  },
  {
   "cell_type": "code",
   "execution_count": null,
   "id": "19e574f4",
   "metadata": {},
   "outputs": [],
   "source": [
    "Try – This method catches the exceptions raised by the program.\n",
    "Raise – Triggers an exception manually using custom exceptions."
   ]
  },
  {
   "cell_type": "code",
   "execution_count": null,
   "id": "52b6b804",
   "metadata": {},
   "outputs": [],
   "source": [
    "Q5. Identify two methods for specifying actions to be executed at termination time, regardless of\n",
    "whether or not an exception exists."
   ]
  },
  {
   "cell_type": "code",
   "execution_count": null,
   "id": "760665da",
   "metadata": {},
   "outputs": [],
   "source": [
    "Finally--always executes irrespective of an exception being thrown or not.\n"
   ]
  },
  {
   "cell_type": "code",
   "execution_count": null,
   "id": "218cc26c",
   "metadata": {},
   "outputs": [],
   "source": []
  }
 ],
 "metadata": {
  "kernelspec": {
   "display_name": "Python 3 (ipykernel)",
   "language": "python",
   "name": "python3"
  },
  "language_info": {
   "codemirror_mode": {
    "name": "ipython",
    "version": 3
   },
   "file_extension": ".py",
   "mimetype": "text/x-python",
   "name": "python",
   "nbconvert_exporter": "python",
   "pygments_lexer": "ipython3",
   "version": "3.7.3"
  }
 },
 "nbformat": 4,
 "nbformat_minor": 5
}
