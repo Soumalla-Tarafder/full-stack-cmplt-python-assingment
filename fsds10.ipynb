{
 "cells": [
  {
   "cell_type": "code",
   "execution_count": null,
   "id": "8267565f",
   "metadata": {},
   "outputs": [],
   "source": [
    "1. What is the name of the feature responsible for generating Regex objects?"
   ]
  },
  {
   "cell_type": "code",
   "execution_count": null,
   "id": "37bf5851",
   "metadata": {},
   "outputs": [],
   "source": [
    "The re. compile() function returns Regex objects."
   ]
  },
  {
   "cell_type": "code",
   "execution_count": null,
   "id": "f4b5b7d3",
   "metadata": {},
   "outputs": [],
   "source": [
    "2. Why do raw strings often appear in Regex objects?"
   ]
  },
  {
   "cell_type": "code",
   "execution_count": null,
   "id": "ce8ac5b7",
   "metadata": {},
   "outputs": [],
   "source": [
    "Raw strings are used so that backslashes do not have to be escaped."
   ]
  },
  {
   "cell_type": "code",
   "execution_count": null,
   "id": "24f8306a",
   "metadata": {},
   "outputs": [],
   "source": [
    "3. What is the return value of the search() method?"
   ]
  },
  {
   "cell_type": "code",
   "execution_count": null,
   "id": "79468f5e",
   "metadata": {},
   "outputs": [],
   "source": [
    "The search() method returns -1 if no match is found.or the similer string.\n"
   ]
  },
  {
   "cell_type": "code",
   "execution_count": null,
   "id": "68940321",
   "metadata": {},
   "outputs": [],
   "source": [
    "4. From a Match item, how do you get the actual strings that match the pattern?"
   ]
  },
  {
   "cell_type": "code",
   "execution_count": null,
   "id": "2c37bc90",
   "metadata": {},
   "outputs": [],
   "source": [
    "The group() method returns strings of the matched text."
   ]
  },
  {
   "cell_type": "code",
   "execution_count": null,
   "id": "2446854d",
   "metadata": {},
   "outputs": [],
   "source": [
    "5. In the regex which created from the r'(\\d\\d\\d)-(\\d\\d\\d-\\d\\d\\d\\d)', what does group zero cover?\n",
    "Group 2? Group 1?"
   ]
  },
  {
   "cell_type": "code",
   "execution_count": null,
   "id": "509e54bf",
   "metadata": {},
   "outputs": [],
   "source": [
    "group zero cover 3 digits.\n",
    "groop1 cover"
   ]
  },
  {
   "cell_type": "code",
   "execution_count": null,
   "id": "39e6247d",
   "metadata": {},
   "outputs": [],
   "source": [
    "6. In standard expression syntax, parentheses and intervals have distinct meanings. How can you tell\n",
    "a regex that you want it to fit real parentheses and periods?\n"
   ]
  },
  {
   "cell_type": "code",
   "execution_count": null,
   "id": "793ea039",
   "metadata": {},
   "outputs": [],
   "source": [
    " we can group that part of the regular expression together."
   ]
  },
  {
   "cell_type": "code",
   "execution_count": null,
   "id": "4925697c",
   "metadata": {},
   "outputs": [],
   "source": [
    "7. The findall() method returns a string list or a list of string tuples. What causes it to return one of\n",
    "the two options?"
   ]
  },
  {
   "cell_type": "code",
   "execution_count": null,
   "id": "cf088ec7",
   "metadata": {},
   "outputs": [],
   "source": []
  },
  {
   "cell_type": "code",
   "execution_count": null,
   "id": "7641641e",
   "metadata": {},
   "outputs": [],
   "source": [
    "8. In standard expressions, what does the | character mean?\n",
    "\n"
   ]
  },
  {
   "cell_type": "code",
   "execution_count": null,
   "id": "4e57fd98",
   "metadata": {},
   "outputs": [],
   "source": []
  },
  {
   "cell_type": "code",
   "execution_count": null,
   "id": "a58bfb21",
   "metadata": {},
   "outputs": [],
   "source": [
    "9. In regular expressions, what does the character stand for?"
   ]
  },
  {
   "cell_type": "code",
   "execution_count": null,
   "id": "de8852a1",
   "metadata": {},
   "outputs": [],
   "source": [
    "Regular expressions are special strings representing a pattern to be matched in a search \n",
    "operation."
   ]
  },
  {
   "cell_type": "code",
   "execution_count": null,
   "id": "a49d8d36",
   "metadata": {},
   "outputs": [],
   "source": [
    "10.In regular expressions, what is the difference between the + and * characters?"
   ]
  },
  {
   "cell_type": "code",
   "execution_count": null,
   "id": "480dd9eb",
   "metadata": {},
   "outputs": [],
   "source": []
  },
  {
   "cell_type": "code",
   "execution_count": null,
   "id": "a910f6ce",
   "metadata": {},
   "outputs": [],
   "source": [
    "11. What is the difference between {4} and {4,5} in regular expression?"
   ]
  },
  {
   "cell_type": "code",
   "execution_count": null,
   "id": "a6af0dae",
   "metadata": {},
   "outputs": [],
   "source": [
    " {4} means its cheaks for 4 digit number\n",
    "    {4,5}   it maybe 4 or 5 digits."
   ]
  },
  {
   "cell_type": "code",
   "execution_count": null,
   "id": "7d6ef75f",
   "metadata": {},
   "outputs": [],
   "source": [
    "12. What do you mean by the \\d, \\w, and \\s shorthand character classes signify in regular\n",
    "expressions?"
   ]
  },
  {
   "cell_type": "code",
   "execution_count": null,
   "id": "745af54d",
   "metadata": {},
   "outputs": [],
   "source": [
    "\\d for digits.\n",
    "\\w for words.\n",
    "\\s for spaces."
   ]
  },
  {
   "cell_type": "code",
   "execution_count": null,
   "id": "7c412454",
   "metadata": {},
   "outputs": [],
   "source": []
  },
  {
   "cell_type": "code",
   "execution_count": null,
   "id": "d2b203ac",
   "metadata": {},
   "outputs": [],
   "source": []
  },
  {
   "cell_type": "code",
   "execution_count": null,
   "id": "e89ad2eb",
   "metadata": {},
   "outputs": [],
   "source": [
    "15. What is the syntax for matching both numbers and lowercase letters with a character class?\n",
    "\n",
    "\"[ 0-9a-z] \"\n"
   ]
  },
  {
   "cell_type": "code",
   "execution_count": null,
   "id": "03ebe351",
   "metadata": {},
   "outputs": [],
   "source": []
  },
  {
   "cell_type": "code",
   "execution_count": null,
   "id": "0104c5b4",
   "metadata": {},
   "outputs": [],
   "source": [
    "16. What is the procedure for making a normal expression in regax case insensitive?"
   ]
  },
  {
   "cell_type": "code",
   "execution_count": null,
   "id": "c20459d3",
   "metadata": {},
   "outputs": [],
   "source": [
    "1. Using CASE_INSENSITIVE flag.\n",
    "2. Using modifier."
   ]
  },
  {
   "cell_type": "code",
   "execution_count": null,
   "id": "14c59b62",
   "metadata": {},
   "outputs": [],
   "source": [
    "17. What does the . character normally match? What does it match if re.DOTALL is passed as 2nd\n",
    "argument in re.compile()?"
   ]
  },
  {
   "cell_type": "code",
   "execution_count": null,
   "id": "5b820da9",
   "metadata": {},
   "outputs": [],
   "source": [
    ". is matched with only one character.\n",
    "If re. DOTALL is passed as the second argument to re. compile(), then the dot will also match\n",
    "newline characters\n"
   ]
  },
  {
   "cell_type": "code",
   "execution_count": null,
   "id": "c40be41d",
   "metadata": {},
   "outputs": [],
   "source": [
    "18. If numReg = re.compile(r'\\d'), what will numRegex.sub('X', '11 drummers, 10 pipers, five \n",
    "rings, 4hen') return?"
   ]
  },
  {
   "cell_type": "code",
   "execution_count": 2,
   "id": "57f1dc7d",
   "metadata": {},
   "outputs": [
    {
     "data": {
      "application/javascript": [
       "\n",
       "        if (window._pyforest_update_imports_cell) { window._pyforest_update_imports_cell('import re'); }\n",
       "    "
      ],
      "text/plain": [
       "<IPython.core.display.Javascript object>"
      ]
     },
     "metadata": {},
     "output_type": "display_data"
    },
    {
     "data": {
      "text/plain": [
       "'XX drummers, XX pipers, five rings, Xhen'"
      ]
     },
     "execution_count": 2,
     "metadata": {},
     "output_type": "execute_result"
    }
   ],
   "source": [
    "'XX drummers, XX pipers, five rings, Xhen' ."
   ]
  },
  {
   "cell_type": "code",
   "execution_count": null,
   "id": "89e8901b",
   "metadata": {},
   "outputs": [],
   "source": [
    "19. What does passing re.VERBOSE as the 2nd argument to re.compile() allow to do?"
   ]
  },
  {
   "cell_type": "code",
   "execution_count": null,
   "id": "b5c5a14e",
   "metadata": {},
   "outputs": [],
   "source": [
    "allows you to add whitespace and comments to the string passed to re."
   ]
  },
  {
   "cell_type": "code",
   "execution_count": null,
   "id": "9c23cfdd",
   "metadata": {},
   "outputs": [],
   "source": []
  },
  {
   "cell_type": "code",
   "execution_count": null,
   "id": "a57fe98f",
   "metadata": {},
   "outputs": [],
   "source": [
    "20. How would you write a regex that match a number with comma for every three digits? It must\n",
    "match the given following:\n",
    "'42'\n",
    "'1,234'\n",
    "'6,368,745'\n",
    "\n",
    "but not the following:\n",
    "'12,34,567' (which has only two digits between the commas)\n",
    "'1234' (which lacks commas)"
   ]
  },
  {
   "cell_type": "code",
   "execution_count": null,
   "id": "fa0c383d",
   "metadata": {},
   "outputs": [],
   "source": [
    "\\d{1,3}(,\\d{3}))\n"
   ]
  },
  {
   "cell_type": "code",
   "execution_count": null,
   "id": "9d4c1183",
   "metadata": {},
   "outputs": [],
   "source": []
  },
  {
   "cell_type": "code",
   "execution_count": null,
   "id": "8a0d1ccd",
   "metadata": {},
   "outputs": [],
   "source": []
  },
  {
   "cell_type": "code",
   "execution_count": null,
   "id": "273e1c0f",
   "metadata": {},
   "outputs": [],
   "source": []
  }
 ],
 "metadata": {
  "kernelspec": {
   "display_name": "Python 3 (ipykernel)",
   "language": "python",
   "name": "python3"
  },
  "language_info": {
   "codemirror_mode": {
    "name": "ipython",
    "version": 3
   },
   "file_extension": ".py",
   "mimetype": "text/x-python",
   "name": "python",
   "nbconvert_exporter": "python",
   "pygments_lexer": "ipython3",
   "version": "3.7.3"
  }
 },
 "nbformat": 4,
 "nbformat_minor": 5
}
