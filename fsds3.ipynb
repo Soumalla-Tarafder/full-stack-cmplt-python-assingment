{
 "cells": [
  {
   "cell_type": "code",
   "execution_count": null,
   "id": "0372edfb",
   "metadata": {},
   "outputs": [],
   "source": [
    "1. What exactly is []?"
   ]
  },
  {
   "cell_type": "code",
   "execution_count": null,
   "id": "b5411742",
   "metadata": {},
   "outputs": [],
   "source": [
    "this is list containg no value"
   ]
  },
  {
   "cell_type": "code",
   "execution_count": null,
   "id": "e585f468",
   "metadata": {},
   "outputs": [],
   "source": [
    "2. In a list of values stored in a variable called spam, how would you assign the value ;hello;\n",
    "as the third value? (Assume [2, 4, 6, 8, 10] are in spam.)\n",
    "Let's pretend the spam includes the list ['a','b','c','d'] for the next three queries."
   ]
  },
  {
   "cell_type": "code",
   "execution_count": 28,
   "id": "51438c5d",
   "metadata": {},
   "outputs": [],
   "source": [
    "\n",
    "spam.insert(2,'hello')"
   ]
  },
  {
   "cell_type": "code",
   "execution_count": null,
   "id": "3528e0e1",
   "metadata": {},
   "outputs": [],
   "source": [
    "3. What is the value of spam[int(int('3' * 2) / 11)]?"
   ]
  },
  {
   "cell_type": "code",
   "execution_count": null,
   "id": "8df6f8fe",
   "metadata": {},
   "outputs": [],
   "source": [
    "spam[3]====d"
   ]
  },
  {
   "cell_type": "code",
   "execution_count": null,
   "id": "1b4623e4",
   "metadata": {},
   "outputs": [],
   "source": [
    "4. What is the value of spam[-1]?"
   ]
  },
  {
   "cell_type": "code",
   "execution_count": null,
   "id": "021edec2",
   "metadata": {},
   "outputs": [],
   "source": [
    "d"
   ]
  },
  {
   "cell_type": "code",
   "execution_count": null,
   "id": "b32131d9",
   "metadata": {},
   "outputs": [],
   "source": [
    "5. What is the value of spam[:2]?\n",
    "Let;s pretend bacon has the list [3.14, cat, 11, cat, True] for the next three questions."
   ]
  },
  {
   "cell_type": "code",
   "execution_count": 30,
   "id": "56878563",
   "metadata": {},
   "outputs": [
    {
     "data": {
      "text/plain": [
       "['a', 'b']"
      ]
     },
     "execution_count": 30,
     "metadata": {},
     "output_type": "execute_result"
    }
   ],
   "source": [
    "a,b"
   ]
  },
  {
   "cell_type": "code",
   "execution_count": null,
   "id": "c37266c0",
   "metadata": {},
   "outputs": [],
   "source": [
    "6. What is the value of bacon.index('cat')?"
   ]
  },
  {
   "cell_type": "code",
   "execution_count": null,
   "id": "767d3fc7",
   "metadata": {},
   "outputs": [],
   "source": [
    "1"
   ]
  },
  {
   "cell_type": "code",
   "execution_count": null,
   "id": "979de1c9",
   "metadata": {},
   "outputs": [],
   "source": [
    "7. How does bacon.append(99) change the look of the list value in bacon?"
   ]
  },
  {
   "cell_type": "code",
   "execution_count": null,
   "id": "f45a5bdc",
   "metadata": {},
   "outputs": [],
   "source": [
    "[3.14, cat, 11, cat, True,99]"
   ]
  },
  {
   "cell_type": "code",
   "execution_count": null,
   "id": "6ad5b364",
   "metadata": {},
   "outputs": [],
   "source": [
    "8. How does bacon.remove('cat') change the look of the list in bacon?"
   ]
  },
  {
   "cell_type": "code",
   "execution_count": null,
   "id": "aecc67e8",
   "metadata": {},
   "outputs": [],
   "source": [
    "[3.14,  11, cat, True,99]"
   ]
  },
  {
   "cell_type": "code",
   "execution_count": null,
   "id": "95dd0525",
   "metadata": {},
   "outputs": [],
   "source": [
    "9. What are the list concatenation and list replication operators?"
   ]
  },
  {
   "cell_type": "code",
   "execution_count": null,
   "id": "9e02b609",
   "metadata": {},
   "outputs": [],
   "source": [
    "The operator for list concatenation is +, while the operator for replication is *."
   ]
  },
  {
   "cell_type": "code",
   "execution_count": null,
   "id": "063ce036",
   "metadata": {},
   "outputs": [],
   "source": [
    "10. What is difference between the list methods append() and insert()?"
   ]
  },
  {
   "cell_type": "code",
   "execution_count": null,
   "id": "d91e77e9",
   "metadata": {},
   "outputs": [],
   "source": [
    "append function used to append a value in the last. and the insert function takes two values one\n",
    "is index in which we can store and the other is value."
   ]
  },
  {
   "cell_type": "code",
   "execution_count": null,
   "id": "ae92adb3",
   "metadata": {},
   "outputs": [],
   "source": [
    "11. What are the two methods for removing items from a list?"
   ]
  },
  {
   "cell_type": "code",
   "execution_count": null,
   "id": "c33b3664",
   "metadata": {},
   "outputs": [],
   "source": [
    "remove()\n",
    "pop() \n",
    "clear()."
   ]
  },
  {
   "cell_type": "code",
   "execution_count": null,
   "id": "1c5f4de1",
   "metadata": {},
   "outputs": [],
   "source": [
    "12. Describe how list values and string values are identical."
   ]
  },
  {
   "cell_type": "code",
   "execution_count": null,
   "id": "8b418f73",
   "metadata": {},
   "outputs": [],
   "source": [
    "The values that make up a list are called its elements.  Lists are similar to strings, which are\n",
    "ordered collections of characters, except that the elements of a list can have any type and for\n",
    "any one list, the items can be of different types."
   ]
  },
  {
   "cell_type": "code",
   "execution_count": null,
   "id": "cd7cdbf4",
   "metadata": {},
   "outputs": [],
   "source": [
    "13. What is the difference between tuples and lists?"
   ]
  },
  {
   "cell_type": "code",
   "execution_count": null,
   "id": "d1619083",
   "metadata": {},
   "outputs": [],
   "source": [
    "tuples are immutable objects and  the lists are mutable. "
   ]
  },
  {
   "cell_type": "code",
   "execution_count": null,
   "id": "2aa49292",
   "metadata": {},
   "outputs": [],
   "source": [
    "14. How do you type a tuple value that only contains the integer 42?"
   ]
  },
  {
   "cell_type": "code",
   "execution_count": null,
   "id": "963b5650",
   "metadata": {},
   "outputs": [],
   "source": [
    "a=(42)"
   ]
  },
  {
   "cell_type": "code",
   "execution_count": null,
   "id": "0fbf993f",
   "metadata": {},
   "outputs": [],
   "source": [
    "15. How do you get a list value's tuple form? How do you get a tuple value's list form?"
   ]
  },
  {
   "cell_type": "code",
   "execution_count": null,
   "id": "f0ac4bd8",
   "metadata": {},
   "outputs": [],
   "source": [
    "tuple(list_name) .\n",
    "tuple_name.tolist()."
   ]
  },
  {
   "cell_type": "code",
   "execution_count": null,
   "id": "d082a702",
   "metadata": {},
   "outputs": [],
   "source": [
    "16. Variables that 'contain 'list values are not necessarily lists themselves. Instead, what do \n",
    "they contain?"
   ]
  },
  {
   "cell_type": "code",
   "execution_count": null,
   "id": "d03b0ddb",
   "metadata": {},
   "outputs": [],
   "source": [
    "Variables will contain references to list values rather than list values. But for \n",
    "strings and integer values, variables simply contain the string or integer value."
   ]
  },
  {
   "cell_type": "code",
   "execution_count": null,
   "id": "c662b812",
   "metadata": {},
   "outputs": [],
   "source": [
    "17. How do you distinguish between copy.copy() and copy.deepcopy()?"
   ]
  },
  {
   "cell_type": "code",
   "execution_count": null,
   "id": "22abe6ad",
   "metadata": {},
   "outputs": [],
   "source": [
    "A shallow copy constructs a new compound object and then (to the extent possible) inserts\n",
    "references into it to the objects found in the original.\n",
    "A deep copy constructs a new compound object and then, recursively, inserts copies into it of \n",
    "the objects found in the original."
   ]
  },
  {
   "cell_type": "code",
   "execution_count": null,
   "id": "78cf5ea1",
   "metadata": {},
   "outputs": [],
   "source": []
  }
 ],
 "metadata": {
  "kernelspec": {
   "display_name": "Python 3 (ipykernel)",
   "language": "python",
   "name": "python3"
  },
  "language_info": {
   "codemirror_mode": {
    "name": "ipython",
    "version": 3
   },
   "file_extension": ".py",
   "mimetype": "text/x-python",
   "name": "python",
   "nbconvert_exporter": "python",
   "pygments_lexer": "ipython3",
   "version": "3.7.3"
  }
 },
 "nbformat": 4,
 "nbformat_minor": 5
}
