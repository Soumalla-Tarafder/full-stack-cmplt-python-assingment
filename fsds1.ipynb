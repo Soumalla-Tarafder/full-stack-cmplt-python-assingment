{
 "cells": [
  {
   "cell_type": "code",
   "execution_count": null,
   "id": "f5a9dda1",
   "metadata": {},
   "outputs": [],
   "source": [
    "1. Why are functions advantageous to have in your programs?"
   ]
  },
  {
   "cell_type": "code",
   "execution_count": null,
   "id": "c5a063be",
   "metadata": {},
   "outputs": [],
   "source": [
    "reusability,makes our task easy,save our time etc."
   ]
  },
  {
   "cell_type": "code",
   "execution_count": null,
   "id": "ecf3d6d1",
   "metadata": {},
   "outputs": [],
   "source": [
    "2. When does the code in a function run: when it specified or when it called?"
   ]
  },
  {
   "cell_type": "code",
   "execution_count": null,
   "id": "179611c3",
   "metadata": {},
   "outputs": [],
   "source": [
    "the function will run when we call this function. it is specified in the time of creating that \n",
    "function.and this is called when we have to use it."
   ]
  },
  {
   "cell_type": "code",
   "execution_count": null,
   "id": "eed295a5",
   "metadata": {},
   "outputs": [],
   "source": [
    "3. What statement creates a function?"
   ]
  },
  {
   "cell_type": "code",
   "execution_count": null,
   "id": "1b2bd016",
   "metadata": {},
   "outputs": [],
   "source": [
    "def { function name}."
   ]
  },
  {
   "cell_type": "code",
   "execution_count": null,
   "id": "2ca06a2e",
   "metadata": {},
   "outputs": [],
   "source": [
    "4. What is the difference between a function and a function call?"
   ]
  },
  {
   "cell_type": "code",
   "execution_count": null,
   "id": "23b83e7d",
   "metadata": {},
   "outputs": [],
   "source": [
    " A function is procedure to achieve a particular result while function call is using this \n",
    "function to achive that task."
   ]
  },
  {
   "cell_type": "code",
   "execution_count": null,
   "id": "d39dce8b",
   "metadata": {},
   "outputs": [],
   "source": [
    "5. How many global scopes are there in a Python program? How many local scopes?"
   ]
  },
  {
   "cell_type": "code",
   "execution_count": null,
   "id": "b1008a9a",
   "metadata": {},
   "outputs": [],
   "source": [
    "There's only one global Python scope per program execution."
   ]
  },
  {
   "cell_type": "code",
   "execution_count": null,
   "id": "8cee4f39",
   "metadata": {},
   "outputs": [],
   "source": [
    "6. What happens to variables in a local scope when the function call returns?"
   ]
  },
  {
   "cell_type": "code",
   "execution_count": null,
   "id": "fd57004f",
   "metadata": {},
   "outputs": [],
   "source": [
    "A local variable becomes undefined after the function call completes. "
   ]
  },
  {
   "cell_type": "code",
   "execution_count": null,
   "id": "7b4b2d79",
   "metadata": {},
   "outputs": [],
   "source": [
    "7. What is the concept of a return value? Is it possible to have a return value in an expression?"
   ]
  },
  {
   "cell_type": "code",
   "execution_count": null,
   "id": "b8241852",
   "metadata": {},
   "outputs": [],
   "source": [
    "None is returned."
   ]
  },
  {
   "cell_type": "code",
   "execution_count": null,
   "id": "35e64b6d",
   "metadata": {},
   "outputs": [],
   "source": [
    "8. If a function does not have a return statement, what is the return value of a call to that\n",
    "function?"
   ]
  },
  {
   "cell_type": "code",
   "execution_count": null,
   "id": "954c756d",
   "metadata": {},
   "outputs": [],
   "source": []
  },
  {
   "cell_type": "code",
   "execution_count": null,
   "id": "c2a6ef6c",
   "metadata": {},
   "outputs": [],
   "source": [
    "9. How do you make a function variable refer to the global variable?"
   ]
  },
  {
   "cell_type": "code",
   "execution_count": null,
   "id": "2c43333a",
   "metadata": {},
   "outputs": [],
   "source": [
    "we can use the global keyword to declare which variables are global."
   ]
  },
  {
   "cell_type": "code",
   "execution_count": null,
   "id": "7f93a020",
   "metadata": {},
   "outputs": [],
   "source": [
    "10. What is the data type of None?"
   ]
  },
  {
   "cell_type": "code",
   "execution_count": null,
   "id": "abe6c511",
   "metadata": {},
   "outputs": [],
   "source": [
    "The None keyword is used to define a null value, or no value at all. None is not the same as 0,\n",
    "False, or an empty string. None is a data type of its own (NoneType). "
   ]
  },
  {
   "cell_type": "code",
   "execution_count": null,
   "id": "d4b90d02",
   "metadata": {},
   "outputs": [],
   "source": [
    "11. What does the sentence import areallyourpetsnamederic do?"
   ]
  },
  {
   "cell_type": "code",
   "execution_count": null,
   "id": "f8b8fc9e",
   "metadata": {},
   "outputs": [],
   "source": [
    " That import statement imports a module named areallyourpetsnamederic.\n"
   ]
  },
  {
   "cell_type": "code",
   "execution_count": null,
   "id": "3e3b00cf",
   "metadata": {},
   "outputs": [],
   "source": [
    "12. If you had a bacon() feature in a spam module, what would you call it after importing spam?"
   ]
  },
  {
   "cell_type": "code",
   "execution_count": null,
   "id": "bab4b934",
   "metadata": {},
   "outputs": [],
   "source": [
    "spam.bacon()"
   ]
  },
  {
   "cell_type": "code",
   "execution_count": null,
   "id": "1b276983",
   "metadata": {},
   "outputs": [],
   "source": [
    "13. What can you do to save a programme from crashing if it encounters an error?"
   ]
  },
  {
   "cell_type": "code",
   "execution_count": null,
   "id": "6d928fdb",
   "metadata": {},
   "outputs": [],
   "source": [
    "i can use try and except block."
   ]
  },
  {
   "cell_type": "code",
   "execution_count": null,
   "id": "75f8188a",
   "metadata": {},
   "outputs": [],
   "source": [
    "14. What is the purpose of the try clause? What is the purpose of the except clause?"
   ]
  },
  {
   "cell_type": "code",
   "execution_count": null,
   "id": "b7153de8",
   "metadata": {},
   "outputs": [],
   "source": [
    "The try block allows you to test a block of code for errors. The except block enables you to \n",
    "handle the error ."
   ]
  }
 ],
 "metadata": {
  "kernelspec": {
   "display_name": "Python 3 (ipykernel)",
   "language": "python",
   "name": "python3"
  },
  "language_info": {
   "codemirror_mode": {
    "name": "ipython",
    "version": 3
   },
   "file_extension": ".py",
   "mimetype": "text/x-python",
   "name": "python",
   "nbconvert_exporter": "python",
   "pygments_lexer": "ipython3",
   "version": "3.7.3"
  }
 },
 "nbformat": 4,
 "nbformat_minor": 5
}
