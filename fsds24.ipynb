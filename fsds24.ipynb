{
 "cells": [
  {
   "cell_type": "code",
   "execution_count": 2,
   "id": "bacb74ec",
   "metadata": {},
   "outputs": [],
   "source": [
    "1. What is the concept of an abstract superclass?  "
   ]
  },
  {
   "cell_type": "code",
   "execution_count": null,
   "id": "8ef953d1",
   "metadata": {},
   "outputs": [],
   "source": [
    "It allows you to create a set of methods that must be created within any child classes built\n",
    "from the abstract class."
   ]
  },
  {
   "cell_type": "code",
   "execution_count": null,
   "id": "b80c3b50",
   "metadata": {},
   "outputs": [],
   "source": [
    "2. What happens when a class statement's top level contains a basic assignment statement?"
   ]
  },
  {
   "cell_type": "code",
   "execution_count": null,
   "id": "84df737d",
   "metadata": {},
   "outputs": [],
   "source": [
    "\n",
    "An assignment statement evaluates the expression list and assigns the single resulting object \n",
    "to each of the target lists, from left to right."
   ]
  },
  {
   "cell_type": "code",
   "execution_count": null,
   "id": "c9700e4a",
   "metadata": {},
   "outputs": [],
   "source": [
    "3. Why does a class need to manually call a superclass's __init__ method?"
   ]
  },
  {
   "cell_type": "code",
   "execution_count": null,
   "id": "8abb3c4e",
   "metadata": {},
   "outputs": [],
   "source": [
    "The __init__ method is similar to constructors in C++ and Java . Constructors are used to \n",
    "initialize the object's state.It is run as soon as an object of a class is instantiated."
   ]
  },
  {
   "cell_type": "code",
   "execution_count": null,
   "id": "a4649c5f",
   "metadata": {},
   "outputs": [],
   "source": [
    "4. How can you augment, instead of completely replacing, an inherited method?"
   ]
  },
  {
   "cell_type": "code",
   "execution_count": null,
   "id": "8a7ab55d",
   "metadata": {},
   "outputs": [],
   "source": [
    "This code leverages the fact that a class method can always be called either through an instance.\n",
    "class.method(instance, args...)"
   ]
  },
  {
   "cell_type": "code",
   "execution_count": null,
   "id": "ec429d19",
   "metadata": {},
   "outputs": [],
   "source": [
    "5. How is the local scope of a class different from that of a function?"
   ]
  },
  {
   "cell_type": "code",
   "execution_count": null,
   "id": "ff651d4b",
   "metadata": {},
   "outputs": [],
   "source": [
    "local scope a class life within this class only..and the local variable of a function is created \n",
    "when we call that functio.\n"
   ]
  },
  {
   "cell_type": "code",
   "execution_count": 7,
   "id": "a85c8235",
   "metadata": {},
   "outputs": [],
   "source": []
  },
  {
   "cell_type": "code",
   "execution_count": 15,
   "id": "142b6566",
   "metadata": {},
   "outputs": [],
   "source": []
  },
  {
   "cell_type": "code",
   "execution_count": null,
   "id": "55d0568e",
   "metadata": {},
   "outputs": [],
   "source": []
  }
 ],
 "metadata": {
  "kernelspec": {
   "display_name": "Python 3 (ipykernel)",
   "language": "python",
   "name": "python3"
  },
  "language_info": {
   "codemirror_mode": {
    "name": "ipython",
    "version": 3
   },
   "file_extension": ".py",
   "mimetype": "text/x-python",
   "name": "python",
   "nbconvert_exporter": "python",
   "pygments_lexer": "ipython3",
   "version": "3.7.3"
  }
 },
 "nbformat": 4,
 "nbformat_minor": 5
}
