{
 "cells": [
  {
   "cell_type": "code",
   "execution_count": null,
   "id": "d9d0d114",
   "metadata": {},
   "outputs": [],
   "source": [
    "1. What are escape characters, and how do you use them?"
   ]
  },
  {
   "cell_type": "code",
   "execution_count": 40,
   "id": "3f8de37b",
   "metadata": {},
   "outputs": [
    {
     "ename": "SyntaxError",
     "evalue": "invalid syntax (Temp/ipykernel_20084/1282841661.py, line 1)",
     "output_type": "error",
     "traceback": [
      "\u001b[1;36m  File \u001b[1;32m\"C:\\Users\\SOUMAL~1\\AppData\\Local\\Temp/ipykernel_20084/1282841661.py\"\u001b[1;36m, line \u001b[1;32m1\u001b[0m\n\u001b[1;33m    To insert characters that are illegal in a string, use an escape character. An escape character\u001b[0m\n\u001b[1;37m            ^\u001b[0m\n\u001b[1;31mSyntaxError\u001b[0m\u001b[1;31m:\u001b[0m invalid syntax\n"
     ]
    }
   ],
   "source": [
    "To insert characters that are illegal in a string, use an escape character. An escape character \n",
    "is a backslash [\\] followed by the character you want to insert.\n",
    "txt = \"We are the so-called \"Vikings\" from the north.\" ==>give a error\n",
    "txt = \"We are the so-called \\\"Vikings\\\" from the north.\"\n",
    "print(txt)"
   ]
  },
  {
   "cell_type": "code",
   "execution_count": null,
   "id": "3ebf613d",
   "metadata": {},
   "outputs": [],
   "source": [
    "2. What do the escape characters n and t stand for?"
   ]
  },
  {
   "cell_type": "code",
   "execution_count": null,
   "id": "bf747750",
   "metadata": {},
   "outputs": [],
   "source": [
    "n for new line.   [/n]\n",
    "t for tab distance.    [/t]"
   ]
  },
  {
   "cell_type": "code",
   "execution_count": null,
   "id": "ba173ed5",
   "metadata": {},
   "outputs": [],
   "source": [
    "3. What is the way to include backslash characters in a string?"
   ]
  },
  {
   "cell_type": "code",
   "execution_count": null,
   "id": "48aa612c",
   "metadata": {},
   "outputs": [],
   "source": [
    "Use two backslashes to represent a backslash"
   ]
  },
  {
   "cell_type": "markdown",
   "id": "e31f308b",
   "metadata": {},
   "source": [
    "4. The string \"\"'Howl's Moving Castle\" is a correct value. Why isn't the single \n",
    "quote character in the word Howl's not escaped a problem?"
   ]
  },
  {
   "cell_type": "code",
   "execution_count": 39,
   "id": "e87302a5",
   "metadata": {},
   "outputs": [
    {
     "name": "stdout",
     "output_type": "stream",
     "text": [
      "We are the so-called \"Vikings\" from the north.\n"
     ]
    }
   ],
   "source": [
    "this is a escape character."
   ]
  },
  {
   "cell_type": "code",
   "execution_count": null,
   "id": "1d0b764e",
   "metadata": {},
   "outputs": [],
   "source": [
    "5. How do you write a string of newlines if you don't want to use the n character?"
   ]
  },
  {
   "cell_type": "code",
   "execution_count": null,
   "id": "eacd6a9a",
   "metadata": {},
   "outputs": [],
   "source": [
    "end='/n'"
   ]
  },
  {
   "cell_type": "code",
   "execution_count": null,
   "id": "9b5dcac1",
   "metadata": {},
   "outputs": [],
   "source": [
    "6. What are the values of the given expressions?\n",
    "'Hello, world'[1]\n",
    "'Hello, world'[0:5]\n",
    "'Hello, world'[:5]\n",
    "'Hello, world'[3:]"
   ]
  },
  {
   "cell_type": "code",
   "execution_count": 34,
   "id": "44b265f2",
   "metadata": {},
   "outputs": [
    {
     "data": {
      "text/plain": [
       "'e'"
      ]
     },
     "execution_count": 34,
     "metadata": {},
     "output_type": "execute_result"
    }
   ],
   "source": [
    "'Hello, world'[1]==>e\n",
    "'Hello, world'[0:5]==>'Hello'\n",
    "'Hello, world'[:5]==>'Hello'\n",
    "'Hello, world'[3:]==>'lo, world'  "
   ]
  },
  {
   "cell_type": "code",
   "execution_count": null,
   "id": "fa3f5b64",
   "metadata": {},
   "outputs": [],
   "source": [
    "7. What are the values of the following expressions?\n",
    "'Hello'.upper()\n",
    "'Hello'.upper().isupper()\n",
    "'Hello'.upper().lower()"
   ]
  },
  {
   "cell_type": "code",
   "execution_count": null,
   "id": "f9ef23cb",
   "metadata": {},
   "outputs": [],
   "source": [
    "'Hello'.upper() ==> HELLO\n",
    "'Hello'.upper().isupper() ==>TRUE\n",
    "'Hello'.upper().lower() ==> hello"
   ]
  },
  {
   "cell_type": "code",
   "execution_count": null,
   "id": "1404bf9f",
   "metadata": {},
   "outputs": [],
   "source": [
    "8. What are the values of the following expressions?\n",
    "'Remember, remember, the fifth of July'.split()\n",
    "'-'.join('There can only one'.split())"
   ]
  },
  {
   "cell_type": "code",
   "execution_count": 38,
   "id": "f8fbf078",
   "metadata": {},
   "outputs": [
    {
     "data": {
      "text/plain": [
       "'There-can-only-one'"
      ]
     },
     "execution_count": 38,
     "metadata": {},
     "output_type": "execute_result"
    }
   ],
   "source": [
    "'Remember, remember, the fifth of July'.split()==>['Remember','remember','the','fifth','of','july']\n",
    "'-'.join('There can only one'.split())==>'There-can-only-one'"
   ]
  },
  {
   "cell_type": "code",
   "execution_count": null,
   "id": "12c15f65",
   "metadata": {},
   "outputs": [],
   "source": [
    "9. What are the methods for right-justifying, left-justifying, and centering a string?"
   ]
  },
  {
   "cell_type": "code",
   "execution_count": null,
   "id": "17972b54",
   "metadata": {},
   "outputs": [],
   "source": [
    "rjust(), ljust(),center()."
   ]
  },
  {
   "cell_type": "code",
   "execution_count": null,
   "id": "b6d398b1",
   "metadata": {},
   "outputs": [],
   "source": [
    "10. What is the best way to remove whitespace characters from the start or end?"
   ]
  },
  {
   "cell_type": "code",
   "execution_count": null,
   "id": "72d649e0",
   "metadata": {},
   "outputs": [],
   "source": [
    "The Python String strip() method is part of the built-in function available in python. "
   ]
  },
  {
   "cell_type": "code",
   "execution_count": null,
   "id": "984ff47f",
   "metadata": {},
   "outputs": [],
   "source": []
  }
 ],
 "metadata": {
  "kernelspec": {
   "display_name": "Python 3 (ipykernel)",
   "language": "python",
   "name": "python3"
  },
  "language_info": {
   "codemirror_mode": {
    "name": "ipython",
    "version": 3
   },
   "file_extension": ".py",
   "mimetype": "text/x-python",
   "name": "python",
   "nbconvert_exporter": "python",
   "pygments_lexer": "ipython3",
   "version": "3.7.3"
  }
 },
 "nbformat": 4,
 "nbformat_minor": 5
}
