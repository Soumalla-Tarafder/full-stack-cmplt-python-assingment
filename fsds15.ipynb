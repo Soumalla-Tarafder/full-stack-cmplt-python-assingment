{
 "cells": [
  {
   "cell_type": "code",
   "execution_count": null,
   "id": "65ab05c8",
   "metadata": {},
   "outputs": [],
   "source": [
    "1. Write a Python program to find sum of elements in list?"
   ]
  },
  {
   "cell_type": "code",
   "execution_count": 1,
   "id": "3c6dd1b0",
   "metadata": {},
   "outputs": [
    {
     "name": "stdout",
     "output_type": "stream",
     "text": [
      "50\n"
     ]
    }
   ],
   "source": [
    "l=[1,23,5,4,8,9]\n",
    "sum=0\n",
    "for j in l:\n",
    "    sum +=j\n",
    "print(sum)    \n",
    "    "
   ]
  },
  {
   "cell_type": "code",
   "execution_count": null,
   "id": "1e995dbf",
   "metadata": {},
   "outputs": [],
   "source": [
    "2. Write a Python program to Multiply all numbers in the list?"
   ]
  },
  {
   "cell_type": "code",
   "execution_count": 2,
   "id": "c219450e",
   "metadata": {},
   "outputs": [
    {
     "name": "stdout",
     "output_type": "stream",
     "text": [
      "33120\n"
     ]
    }
   ],
   "source": [
    "l=[1,23,5,4,8,9]\n",
    "mul=1\n",
    "for j in l:\n",
    "    mul*=j\n",
    "print(mul) "
   ]
  },
  {
   "cell_type": "code",
   "execution_count": null,
   "id": "8803bace",
   "metadata": {},
   "outputs": [],
   "source": [
    "3. Write a Python program to find smallest number in a list?"
   ]
  },
  {
   "cell_type": "code",
   "execution_count": 4,
   "id": "f081cfa8",
   "metadata": {},
   "outputs": [
    {
     "name": "stdout",
     "output_type": "stream",
     "text": [
      "4\n"
     ]
    }
   ],
   "source": [
    "l=[10,23,5,4,8,9]\n",
    "mul=l[0]\n",
    "for j in l:\n",
    "    if mul<j:\n",
    "        pass\n",
    "    else:\n",
    "        mul=j\n",
    "print(mul)        "
   ]
  },
  {
   "cell_type": "code",
   "execution_count": null,
   "id": "bbf0c6b3",
   "metadata": {},
   "outputs": [],
   "source": [
    "4. Write a Python program to find largest number in a list?"
   ]
  },
  {
   "cell_type": "code",
   "execution_count": 5,
   "id": "23754119",
   "metadata": {},
   "outputs": [
    {
     "name": "stdout",
     "output_type": "stream",
     "text": [
      "23\n"
     ]
    }
   ],
   "source": [
    "l=[10,23,5,4,8,9]\n",
    "mul=l[0]\n",
    "for j in l:\n",
    "    if mul>j:\n",
    "        pass\n",
    "    else:\n",
    "        mul=j\n",
    "print(mul)        "
   ]
  },
  {
   "cell_type": "code",
   "execution_count": null,
   "id": "33ab35c3",
   "metadata": {},
   "outputs": [],
   "source": [
    "5. Write a Python program to find second largest number in a list?"
   ]
  },
  {
   "cell_type": "code",
   "execution_count": 24,
   "id": "49be1287",
   "metadata": {},
   "outputs": [
    {
     "data": {
      "text/plain": [
       "70"
      ]
     },
     "execution_count": 24,
     "metadata": {},
     "output_type": "execute_result"
    }
   ],
   "source": [
    "l=[2,55,80,9,6,30,4,70,4]\n",
    "l.sort()\n",
    "l[-2]"
   ]
  },
  {
   "cell_type": "code",
   "execution_count": null,
   "id": "65781aad",
   "metadata": {},
   "outputs": [],
   "source": [
    "6. Write a Python program to find N largest elements from a list?"
   ]
  },
  {
   "cell_type": "code",
   "execution_count": 25,
   "id": "3aaa9912",
   "metadata": {},
   "outputs": [
    {
     "name": "stdout",
     "output_type": "stream",
     "text": [
      "enter the no of largest element u want3\n"
     ]
    },
    {
     "data": {
      "text/plain": [
       "55"
      ]
     },
     "execution_count": 25,
     "metadata": {},
     "output_type": "execute_result"
    }
   ],
   "source": [
    "l=[2,55,80,9,6,30,4,70,4]\n",
    "n=int(input(\"enter the no of largest element u want\"))\n",
    "l.sort()\n",
    "l[-n]"
   ]
  },
  {
   "cell_type": "code",
   "execution_count": null,
   "id": "700db905",
   "metadata": {},
   "outputs": [],
   "source": [
    "7. Write a Python program to print even numbers in a list?"
   ]
  },
  {
   "cell_type": "code",
   "execution_count": 20,
   "id": "2735ea10",
   "metadata": {},
   "outputs": [
    {
     "name": "stdout",
     "output_type": "stream",
     "text": [
      "2\n",
      "8\n",
      "6\n",
      "4\n",
      "4\n"
     ]
    }
   ],
   "source": [
    "l=[2,5,8,9,6,3,4,7,4]\n",
    "for x in l:\n",
    "    if x%2==0:\n",
    "        print(x)"
   ]
  },
  {
   "cell_type": "code",
   "execution_count": null,
   "id": "1e4e296e",
   "metadata": {},
   "outputs": [],
   "source": [
    "8. Write a Python program to print odd numbers in a List?"
   ]
  },
  {
   "cell_type": "code",
   "execution_count": 19,
   "id": "c5690738",
   "metadata": {},
   "outputs": [
    {
     "name": "stdout",
     "output_type": "stream",
     "text": [
      "5\n",
      "9\n",
      "3\n",
      "7\n"
     ]
    }
   ],
   "source": [
    "l=[2,5,8,9,6,3,4,7,4]\n",
    "for x in l:\n",
    "    if x%2!=0:\n",
    "        print(x)\n"
   ]
  },
  {
   "cell_type": "code",
   "execution_count": null,
   "id": "993b166d",
   "metadata": {},
   "outputs": [],
   "source": [
    "9. Write a Python program to Remove empty List from List?"
   ]
  },
  {
   "cell_type": "code",
   "execution_count": 8,
   "id": "ab0125e1",
   "metadata": {},
   "outputs": [
    {
     "data": {
      "text/plain": [
       "[10, 23, 5, 4, 8, 9]"
      ]
     },
     "execution_count": 8,
     "metadata": {},
     "output_type": "execute_result"
    }
   ],
   "source": [
    "l=[10,23,5,[],4,8,9]\n",
    "for i in l:\n",
    "    if type(i)==list:\n",
    "        if len(i)==0:\n",
    "            l.remove(i)\n",
    "l            "
   ]
  },
  {
   "cell_type": "code",
   "execution_count": null,
   "id": "63308cb8",
   "metadata": {},
   "outputs": [],
   "source": [
    "10. Write a Python program to Cloning or Copying a list?"
   ]
  },
  {
   "cell_type": "code",
   "execution_count": 13,
   "id": "6906a101",
   "metadata": {},
   "outputs": [
    {
     "data": {
      "text/plain": [
       "[1, 2, 3, 4, 6, 2, 5, 7]"
      ]
     },
     "execution_count": 13,
     "metadata": {},
     "output_type": "execute_result"
    }
   ],
   "source": [
    "def Cloning(li1):\n",
    "    li_copy = li1[:]\n",
    "    return li_copy\n",
    "l=[1,2,3,4,6,2,5,7]\n",
    "li=Cloning(l)\n",
    "li"
   ]
  },
  {
   "cell_type": "code",
   "execution_count": null,
   "id": "c551a051",
   "metadata": {},
   "outputs": [],
   "source": [
    "11. Write a Python program to Count occurrences of an element in a list?"
   ]
  },
  {
   "cell_type": "code",
   "execution_count": 11,
   "id": "e13a07c0",
   "metadata": {},
   "outputs": [
    {
     "ename": "SyntaxError",
     "evalue": "unexpected EOF while parsing (Temp/ipykernel_13344/2100914321.py, line 10)",
     "output_type": "error",
     "traceback": [
      "\u001b[1;36m  File \u001b[1;32m\"C:\\Users\\SOUMAL~1\\AppData\\Local\\Temp/ipykernel_13344/2100914321.py\"\u001b[1;36m, line \u001b[1;32m10\u001b[0m\n\u001b[1;33m    print('{} has occurred {} times'.format(x, countX(lst, x))\u001b[0m\n\u001b[1;37m                                                              ^\u001b[0m\n\u001b[1;31mSyntaxError\u001b[0m\u001b[1;31m:\u001b[0m unexpected EOF while parsing\n"
     ]
    }
   ],
   "source": [
    "\n",
    "def countX(lst, x):\n",
    "    count = 0\n",
    "    for ele in lst:\n",
    "        if (ele == x):\n",
    "            count = count + 1\n",
    "    return count\n",
    "\n",
    "lst = [8, 6, 8, 10, 8, 20, 10, 8, 8]\n",
    "x = 8\n",
    "print('{} has occurred {} times'.format(x, countX(lst, x))"
   ]
  },
  {
   "cell_type": "code",
   "execution_count": null,
   "id": "9ebcb3a5",
   "metadata": {},
   "outputs": [],
   "source": []
  }
 ],
 "metadata": {
  "kernelspec": {
   "display_name": "Python 3 (ipykernel)",
   "language": "python",
   "name": "python3"
  },
  "language_info": {
   "codemirror_mode": {
    "name": "ipython",
    "version": 3
   },
   "file_extension": ".py",
   "mimetype": "text/x-python",
   "name": "python",
   "nbconvert_exporter": "python",
   "pygments_lexer": "ipython3",
   "version": "3.7.3"
  }
 },
 "nbformat": 4,
 "nbformat_minor": 5
}
