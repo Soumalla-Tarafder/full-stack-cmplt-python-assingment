{
 "cells": [
  {
   "cell_type": "code",
   "execution_count": null,
   "id": "fb88ab69",
   "metadata": {},
   "outputs": [],
   "source": [
    "Q1. What is the purpose of Python's OOP?"
   ]
  },
  {
   "cell_type": "code",
   "execution_count": null,
   "id": "dedcb195",
   "metadata": {},
   "outputs": [],
   "source": [
    "In Python, object-oriented Programming (OOPs) is a programming paradigm that uses objects and \n",
    "classes in programming. It aims to implement real-world entities like inheritance, polymorphisms,\n",
    "encapsulation, etc. in the programming. it  Provides a clear program structure and a clean code.\n",
    "Facilitates easy maintenance and modification of existing code."
   ]
  },
  {
   "cell_type": "code",
   "execution_count": null,
   "id": "28ddbdc5",
   "metadata": {},
   "outputs": [],
   "source": [
    "Q2. Where does an inheritance search look for an attribute?"
   ]
  },
  {
   "cell_type": "code",
   "execution_count": null,
   "id": "bf5afead",
   "metadata": {},
   "outputs": [],
   "source": [
    "the inheritance search is simply a search of the tree from bottom to top looking for the lowest \n",
    "occurrence of an attribute name."
   ]
  },
  {
   "cell_type": "code",
   "execution_count": null,
   "id": "fa7e2183",
   "metadata": {},
   "outputs": [],
   "source": [
    "Q3. How do you distinguish between a class object and an instance object?"
   ]
  },
  {
   "cell_type": "code",
   "execution_count": null,
   "id": "280fdb42",
   "metadata": {},
   "outputs": [],
   "source": [
    "The difference between the two is that an object represents a set of instances while an instance\n",
    "is a certain, specific representation."
   ]
  },
  {
   "cell_type": "code",
   "execution_count": null,
   "id": "3b00fea7",
   "metadata": {},
   "outputs": [],
   "source": [
    "Q4. What makes the first argument in a class’s method function special?"
   ]
  },
  {
   "cell_type": "code",
   "execution_count": null,
   "id": "36f44387",
   "metadata": {},
   "outputs": [],
   "source": [
    "The first argument of every class method, including init, is always a reference to the current \n",
    "instance of the class. "
   ]
  },
  {
   "cell_type": "code",
   "execution_count": null,
   "id": "7c165de8",
   "metadata": {},
   "outputs": [],
   "source": [
    "Q5. What is the purpose of the __init__ method?"
   ]
  },
  {
   "cell_type": "code",
   "execution_count": null,
   "id": "56311254",
   "metadata": {},
   "outputs": [],
   "source": [
    "he __init__ method is similar to constructors in C++ and Java. Constructors are used to\n",
    "initialize the object’s state. The task of constructors is to initialize(assign values) to the \n",
    "data members of the class when an object of class is created."
   ]
  },
  {
   "cell_type": "code",
   "execution_count": null,
   "id": "93f82ef0",
   "metadata": {},
   "outputs": [],
   "source": [
    "Q6. What is the process for creating a class instance?"
   ]
  },
  {
   "cell_type": "code",
   "execution_count": null,
   "id": "cf67a2ef",
   "metadata": {},
   "outputs": [],
   "source": [
    "objectname=classname()"
   ]
  },
  {
   "cell_type": "code",
   "execution_count": null,
   "id": "89da9316",
   "metadata": {},
   "outputs": [],
   "source": [
    "Q7. What is the process for creating a class?"
   ]
  },
  {
   "cell_type": "code",
   "execution_count": 2,
   "id": "1f30e187",
   "metadata": {},
   "outputs": [],
   "source": [
    "class cls():\n",
    "    pass"
   ]
  },
  {
   "cell_type": "code",
   "execution_count": null,
   "id": "e47dca46",
   "metadata": {},
   "outputs": [],
   "source": [
    "Q8. How would you define the superclasses of a class?"
   ]
  },
  {
   "cell_type": "code",
   "execution_count": null,
   "id": "0c5eb929",
   "metadata": {},
   "outputs": [],
   "source": [
    "it is a concept of inheritance. superclass is a class from that many subclass can created."
   ]
  },
  {
   "cell_type": "code",
   "execution_count": null,
   "id": "79412846",
   "metadata": {},
   "outputs": [],
   "source": []
  },
  {
   "cell_type": "code",
   "execution_count": null,
   "id": "dabd7864",
   "metadata": {},
   "outputs": [],
   "source": []
  },
  {
   "cell_type": "code",
   "execution_count": null,
   "id": "bacb74ec",
   "metadata": {},
   "outputs": [],
   "source": []
  }
 ],
 "metadata": {
  "kernelspec": {
   "display_name": "Python 3 (ipykernel)",
   "language": "python",
   "name": "python3"
  },
  "language_info": {
   "codemirror_mode": {
    "name": "ipython",
    "version": 3
   },
   "file_extension": ".py",
   "mimetype": "text/x-python",
   "name": "python",
   "nbconvert_exporter": "python",
   "pygments_lexer": "ipython3",
   "version": "3.7.3"
  }
 },
 "nbformat": 4,
 "nbformat_minor": 5
}
