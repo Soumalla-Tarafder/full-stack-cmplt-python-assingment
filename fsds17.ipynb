{
 "cells": [
  {
   "cell_type": "code",
   "execution_count": 1,
   "id": "1d682b4a",
   "metadata": {},
   "outputs": [
    {
     "name": "stdout",
     "output_type": "stream",
     "text": [
      "Object `k` not found.\n",
      "enter a length44\n"
     ]
    }
   ],
   "source": [
    "1. Write a Python program to find words which are greater than given length k?\n"
   ]
  },
  {
   "cell_type": "code",
   "execution_count": 1,
   "id": "81160711",
   "metadata": {},
   "outputs": [
    {
     "name": "stdout",
     "output_type": "stream",
     "text": [
      "enter a length5\n",
      "rgsgrr\n",
      "dsfektk\n",
      "dfjjjgla\n"
     ]
    }
   ],
   "source": [
    "k=int(input(\"enter a length\"))\n",
    "l=[\"dfsfs\",\"rgsgrr\",\"dsfektk\",\"dfjjjgla\"]\n",
    "for i in l:\n",
    "    if len(i)>k:\n",
    "        print(i)"
   ]
  },
  {
   "cell_type": "code",
   "execution_count": null,
   "id": "ca071747",
   "metadata": {},
   "outputs": [],
   "source": [
    "2. Write a Python program for removing i-th character from a string?"
   ]
  },
  {
   "cell_type": "code",
   "execution_count": null,
   "id": "7594bd23",
   "metadata": {},
   "outputs": [],
   "source": [
    "k=int(input(\"enter a index of the character\"))\n",
    "s=\"abkbkfhifhi\"\n",
    "d= \" \"\n",
    "for j in range(len(s)):\n",
    "    if j==k:\n",
    "        continue\n",
    "    else:\n",
    "         print(s[j])\n",
    "           \n",
    "    \n"
   ]
  },
  {
   "cell_type": "code",
   "execution_count": null,
   "id": "ac993e8d",
   "metadata": {},
   "outputs": [],
   "source": []
  },
  {
   "cell_type": "code",
   "execution_count": null,
   "id": "04a5db39",
   "metadata": {},
   "outputs": [],
   "source": [
    "3. Write a Python program to split and join a string?"
   ]
  },
  {
   "cell_type": "code",
   "execution_count": null,
   "id": "6d0decba",
   "metadata": {},
   "outputs": [],
   "source": [
    "def split(n,char):\n",
    "    a=char[:n]\n",
    "    b=char[n:]\n",
    "    print(a)\n",
    "    print(b)\n",
    "n=int(input(\"neter a position---\"))    \n",
    "char=input(\"enter a string---\")\n",
    "split(n,char)\n",
    "\n",
    "\n",
    "def join1(a,b):\n",
    "    s=\"\"\n",
    "    s=s + a + b\n",
    "a=input(\"enter a string\")\n",
    "b=input(\"enter a string\")\n",
    "join1(a,b)"
   ]
  },
  {
   "cell_type": "code",
   "execution_count": null,
   "id": "1daf8e7a",
   "metadata": {},
   "outputs": [],
   "source": []
  },
  {
   "cell_type": "code",
   "execution_count": null,
   "id": "f96db33b",
   "metadata": {},
   "outputs": [],
   "source": [
    "4. Write a Python to check if a given string is binary string or not"
   ]
  },
  {
   "cell_type": "code",
   "execution_count": 8,
   "id": "6b91dc2b",
   "metadata": {},
   "outputs": [
    {
     "name": "stdout",
     "output_type": "stream",
     "text": [
      "binary\n"
     ]
    }
   ],
   "source": [
    "d=\"0101010\"\n",
    "for i in d:\n",
    "    if d ==0 :\n",
    "        \n",
    "        if i ==1:\n",
    "            \n",
    "            print(\"not binary\")\n",
    "            break\n",
    "print(\"binary\")"
   ]
  },
  {
   "cell_type": "code",
   "execution_count": null,
   "id": "ca4afcce",
   "metadata": {},
   "outputs": [],
   "source": [
    "5. Write a Python program to find uncommon words from two Strings?"
   ]
  },
  {
   "cell_type": "code",
   "execution_count": 12,
   "id": "6f78ffa8",
   "metadata": {},
   "outputs": [
    {
     "name": "stdout",
     "output_type": "stream",
     "text": [
      "c d\n",
      "e f\n"
     ]
    }
   ],
   "source": [
    "a=\"abce\"\n",
    "v=\"abdf\"\n",
    "if len(a)==len(v):\n",
    "    for i in range(len(a)):\n",
    "        if a[i] != v[i]:\n",
    "            print(a[i],v[i])\n",
    "else:\n",
    "    print(\"the lenghth of two string is not same\")"
   ]
  },
  {
   "cell_type": "code",
   "execution_count": null,
   "id": "b7a4a2cf",
   "metadata": {},
   "outputs": [],
   "source": [
    "6. Write a Python to find all duplicate characters in string?"
   ]
  },
  {
   "cell_type": "code",
   "execution_count": 14,
   "id": "b7804c79",
   "metadata": {},
   "outputs": [
    {
     "ename": "SyntaxError",
     "evalue": "invalid syntax (Temp/ipykernel_2720/81566873.py, line 14)",
     "output_type": "error",
     "traceback": [
      "\u001b[1;36m  File \u001b[1;32m\"C:\\Users\\SOUMAL~1\\AppData\\Local\\Temp/ipykernel_2720/81566873.py\"\u001b[1;36m, line \u001b[1;32m14\u001b[0m\n\u001b[1;33m    print WC.keys()[j],\u001b[0m\n\u001b[1;37m           ^\u001b[0m\n\u001b[1;31mSyntaxError\u001b[0m\u001b[1;31m:\u001b[0m invalid syntax\n"
     ]
    }
   ],
   "source": [
    "from collections import Counter\n",
    "  \n",
    "def find_dup_char(input):\n",
    "  \n",
    "   \n",
    "    WC = Counter(input)\n",
    "    j = -1\n",
    "      \n",
    "      \n",
    "    \n",
    "    for i in WC.values():\n",
    "        j = j + 1\n",
    "        if( i > 1 ):\n",
    "            print WC.keys()[j],\n",
    "\n",
    "            \n",
    "            \n",
    "find_dup_char(abcc)            "
   ]
  },
  {
   "cell_type": "code",
   "execution_count": null,
   "id": "ebc6540d",
   "metadata": {},
   "outputs": [],
   "source": [
    "7. Write a Python Program to check if a string contains any special character?"
   ]
  },
  {
   "cell_type": "code",
   "execution_count": 10,
   "id": "b7a1f39d",
   "metadata": {},
   "outputs": [
    {
     "name": "stdout",
     "output_type": "stream",
     "text": [
      "@\n"
     ]
    }
   ],
   "source": [
    "import string \n",
    "d=\"ahjihikjhih@\"    \n",
    " \n",
    "result = string.punctuation \n",
    "for i in d:\n",
    "    if i in result:\n",
    "        print(i)\n",
    "\n"
   ]
  },
  {
   "cell_type": "code",
   "execution_count": null,
   "id": "e98f493c",
   "metadata": {},
   "outputs": [],
   "source": []
  },
  {
   "cell_type": "code",
   "execution_count": null,
   "id": "47ed88e0",
   "metadata": {},
   "outputs": [],
   "source": []
  },
  {
   "cell_type": "code",
   "execution_count": null,
   "id": "34489262",
   "metadata": {},
   "outputs": [],
   "source": []
  },
  {
   "cell_type": "code",
   "execution_count": null,
   "id": "8cdbfa1d",
   "metadata": {},
   "outputs": [],
   "source": []
  },
  {
   "cell_type": "code",
   "execution_count": null,
   "id": "b13766c5",
   "metadata": {},
   "outputs": [],
   "source": []
  },
  {
   "cell_type": "code",
   "execution_count": null,
   "id": "dc6a7857",
   "metadata": {},
   "outputs": [],
   "source": []
  },
  {
   "cell_type": "code",
   "execution_count": null,
   "id": "074a41bb",
   "metadata": {},
   "outputs": [],
   "source": []
  },
  {
   "cell_type": "code",
   "execution_count": null,
   "id": "fcfa04bc",
   "metadata": {},
   "outputs": [],
   "source": []
  }
 ],
 "metadata": {
  "kernelspec": {
   "display_name": "Python 3 (ipykernel)",
   "language": "python",
   "name": "python3"
  },
  "language_info": {
   "codemirror_mode": {
    "name": "ipython",
    "version": 3
   },
   "file_extension": ".py",
   "mimetype": "text/x-python",
   "name": "python",
   "nbconvert_exporter": "python",
   "pygments_lexer": "ipython3",
   "version": "3.7.3"
  }
 },
 "nbformat": 4,
 "nbformat_minor": 5
}
