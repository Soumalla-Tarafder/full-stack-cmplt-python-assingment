{
 "cells": [
  {
   "cell_type": "markdown",
   "id": "d26fbb05",
   "metadata": {},
   "source": [
    "Why does this expression cause an error? How can you fix it?\n",
    "&#39;I have eaten &#39; + 99 + &#39; burritos.&#39;"
   ]
  },
  {
   "cell_type": "code",
   "execution_count": null,
   "id": "b3cb5f84",
   "metadata": {},
   "outputs": [],
   "source": [
    "this upper code made an error because python doesn't support string and number concatination.i can\n",
    "solve this problem by lower code."
   ]
  },
  {
   "cell_type": "code",
   "execution_count": 12,
   "id": "cd0098f1",
   "metadata": {},
   "outputs": [
    {
     "data": {
      "text/plain": [
       "'I HAVE EATEN99burritos'"
      ]
     },
     "execution_count": 12,
     "metadata": {},
     "output_type": "execute_result"
    }
   ],
   "source": [
    "'I HAVE EATEN' + str(99) + 'burritos'"
   ]
  },
  {
   "cell_type": "code",
   "execution_count": null,
   "id": "ce53a3c0",
   "metadata": {},
   "outputs": [],
   "source": []
  },
  {
   "cell_type": "code",
   "execution_count": null,
   "id": "1f4b46e1",
   "metadata": {},
   "outputs": [],
   "source": [
    "9. What three functions can be used to get the integer, floating-point number, or string\n",
    "version of a value?"
   ]
  },
  {
   "cell_type": "code",
   "execution_count": 13,
   "id": "d58d9d9f",
   "metadata": {},
   "outputs": [
    {
     "name": "stdout",
     "output_type": "stream",
     "text": [
      "this is for integer values5\n",
      "this is for float values3.5\n",
      "this is for string valuessadkjnk\n"
     ]
    }
   ],
   "source": [
    "a=int(input(\"this is for integer values\"))\n",
    "b=float(input(\"this is for float values\"))\n",
    "c=input(\"this is for string values\")"
   ]
  },
  {
   "cell_type": "code",
   "execution_count": null,
   "id": "e065d1e9",
   "metadata": {},
   "outputs": [],
   "source": []
  },
  {
   "cell_type": "code",
   "execution_count": null,
   "id": "5e86da51",
   "metadata": {},
   "outputs": [],
   "source": [
    "8. Why is eggs a valid variable name while 100 is invalid?"
   ]
  },
  {
   "cell_type": "code",
   "execution_count": 14,
   "id": "591d1a38",
   "metadata": {},
   "outputs": [],
   "source": [
    "eggs='valid'"
   ]
  },
  {
   "cell_type": "code",
   "execution_count": 16,
   "id": "73a3a436",
   "metadata": {},
   "outputs": [
    {
     "ename": "SyntaxError",
     "evalue": "invalid syntax (Temp/ipykernel_10256/2103804094.py, line 1)",
     "output_type": "error",
     "traceback": [
      "\u001b[1;36m  File \u001b[1;32m\"C:\\Users\\SOUMAL~1\\AppData\\Local\\Temp/ipykernel_10256/2103804094.py\"\u001b[1;36m, line \u001b[1;32m1\u001b[0m\n\u001b[1;33m    100='invalid'{100 is a numerical value .our python compiler got confused between which one is a variable and which one is a value of it}\u001b[0m\n\u001b[1;37m                 ^\u001b[0m\n\u001b[1;31mSyntaxError\u001b[0m\u001b[1;31m:\u001b[0m invalid syntax\n"
     ]
    }
   ],
   "source": [
    "100='invalid'{100 is a numerical value .our python compiler got confused between which one is a variable and which one is a value of it}"
   ]
  },
  {
   "cell_type": "code",
   "execution_count": null,
   "id": "379b18df",
   "metadata": {},
   "outputs": [],
   "source": []
  },
  {
   "cell_type": "code",
   "execution_count": null,
   "id": "6d60cf2e",
   "metadata": {},
   "outputs": [],
   "source": [
    "7. What should the values of the following two terms be?\n",
    "&#39;spam&#39; + &#39;spamspam&#39;\n",
    "&#39;spam&#39; * 3"
   ]
  },
  {
   "cell_type": "code",
   "execution_count": null,
   "id": "b2953962",
   "metadata": {},
   "outputs": [],
   "source": [
    "the value of spam + spamspam is"
   ]
  },
  {
   "cell_type": "code",
   "execution_count": 17,
   "id": "519122fe",
   "metadata": {},
   "outputs": [
    {
     "data": {
      "text/plain": [
       "'spamspamspam'"
      ]
     },
     "execution_count": 17,
     "metadata": {},
     "output_type": "execute_result"
    }
   ],
   "source": [
    "\"spam\" + 'spamspam'"
   ]
  },
  {
   "cell_type": "code",
   "execution_count": null,
   "id": "2ab9ad91",
   "metadata": {},
   "outputs": [],
   "source": [
    "the value of spam * 3  is"
   ]
  },
  {
   "cell_type": "code",
   "execution_count": 18,
   "id": "fb8eba9a",
   "metadata": {},
   "outputs": [
    {
     "data": {
      "text/plain": [
       "'spamspamspam'"
      ]
     },
     "execution_count": 18,
     "metadata": {},
     "output_type": "execute_result"
    }
   ],
   "source": [
    "\"spam\"*3"
   ]
  },
  {
   "cell_type": "code",
   "execution_count": null,
   "id": "580e3587",
   "metadata": {},
   "outputs": [],
   "source": []
  },
  {
   "cell_type": "code",
   "execution_count": null,
   "id": "6ff5867c",
   "metadata": {},
   "outputs": [],
   "source": [
    "6. After running the following code, what does the variable bacon contain?\n",
    "bacon = 22\n",
    "bacon + 1\n",
    "bacon contain 22 ..because we dont assing bacon+1 value to its variable value.so the value of bacon remains same."
   ]
  },
  {
   "cell_type": "code",
   "execution_count": 19,
   "id": "d87b22c7",
   "metadata": {},
   "outputs": [
    {
     "data": {
      "text/plain": [
       "23"
      ]
     },
     "execution_count": 19,
     "metadata": {},
     "output_type": "execute_result"
    }
   ],
   "source": [
    "bacon=22\n",
    "bacon+1"
   ]
  },
  {
   "cell_type": "code",
   "execution_count": 20,
   "id": "99dd07dc",
   "metadata": {},
   "outputs": [
    {
     "data": {
      "text/plain": [
       "22"
      ]
     },
     "execution_count": 20,
     "metadata": {},
     "output_type": "execute_result"
    }
   ],
   "source": [
    "bacon"
   ]
  },
  {
   "cell_type": "code",
   "execution_count": null,
   "id": "18a91b54",
   "metadata": {},
   "outputs": [],
   "source": []
  },
  {
   "cell_type": "code",
   "execution_count": null,
   "id": "812fc304",
   "metadata": {},
   "outputs": [],
   "source": [
    "5.This assignment statements, like spam = 10. What is the difference between an\n",
    "expression and a statement?"
   ]
  },
  {
   "cell_type": "code",
   "execution_count": null,
   "id": "75df20eb",
   "metadata": {},
   "outputs": [],
   "source": [
    " an expression is a combination of functions and variables, that are combined and interpreted by the \n",
    "compiler to create a new value, as opposed to a “statement” which is just a standalone unit of \n",
    "execution and  return nothing."
   ]
  },
  {
   "cell_type": "code",
   "execution_count": null,
   "id": "ef0d9297",
   "metadata": {},
   "outputs": [],
   "source": []
  },
  {
   "cell_type": "code",
   "execution_count": null,
   "id": "344b656b",
   "metadata": {},
   "outputs": [],
   "source": [
    "4. What is an expression made up of? What do all expressions do?"
   ]
  },
  {
   "cell_type": "code",
   "execution_count": null,
   "id": "3aae1bcc",
   "metadata": {},
   "outputs": [],
   "source": [
    "an expressions made up with functions and variables.\n",
    "                    by compute  the values of expressions we get new values."
   ]
  },
  {
   "cell_type": "code",
   "execution_count": null,
   "id": "3f035ff1",
   "metadata": {},
   "outputs": [],
   "source": []
  },
  {
   "cell_type": "code",
   "execution_count": null,
   "id": "9330e30e",
   "metadata": {},
   "outputs": [],
   "source": [
    "3. Describe three different data types."
   ]
  },
  {
   "cell_type": "code",
   "execution_count": null,
   "id": "41e35a7b",
   "metadata": {},
   "outputs": [],
   "source": [
    "list=In Python, a list can be created by placing a sequence of elements within curly [] braces \n",
    "this is a python datatype . it is a collection of heterogenious data.this is a mutable entity.\n",
    "\n",
    " \n",
    "set= a set can be created by placing a sequence of elements within curly {} braces.this is also a predifiner datatype of python.it doesn't contains the duplicate values.\n",
    "\n",
    "Dictionary=In Python, a Dictionary can be created by placing a sequence of elements within curly {}\n",
    "braces.it basically a collection of key and value pairs."
   ]
  },
  {
   "cell_type": "code",
   "execution_count": null,
   "id": "057fadb4",
   "metadata": {},
   "outputs": [],
   "source": []
  },
  {
   "cell_type": "code",
   "execution_count": null,
   "id": "b61a0970",
   "metadata": {},
   "outputs": [],
   "source": [
    "2. What is the difference between string and variable?"
   ]
  },
  {
   "cell_type": "code",
   "execution_count": null,
   "id": "f7cd91cd",
   "metadata": {},
   "outputs": [],
   "source": [
    "A variable is basically the name of the location in the primary memory of your computer. This can be\n",
    "chosen by you. A variable can store everything from strings to numbers. A string is the values inside\n",
    "the quotes assigned to a string"
   ]
  },
  {
   "cell_type": "code",
   "execution_count": null,
   "id": "fca14044",
   "metadata": {},
   "outputs": [],
   "source": []
  },
  {
   "cell_type": "code",
   "execution_count": null,
   "id": "b8448025",
   "metadata": {},
   "outputs": [],
   "source": [
    "1. In the below elements which of them are values or an expression? eg:- values can be\n",
    "integer or string and expressions will be mathematical operators.\n",
    "*\n",
    "'hello'\n",
    "-87.8\n",
    "-\n",
    "/\n",
    "+\n",
    "6"
   ]
  },
  {
   "cell_type": "code",
   "execution_count": null,
   "id": "af323a48",
   "metadata": {},
   "outputs": [],
   "source": [
    "* = this is a operater.\n",
    "'hello'= this is a string.\n",
    "-87.8 = this is a value\n",
    "- = this is a operater.\n",
    "/ = this is a operater.\n",
    "+ = this is a operater.\n",
    "6 = this is also a value."
   ]
  },
  {
   "cell_type": "code",
   "execution_count": null,
   "id": "9f1e9354",
   "metadata": {},
   "outputs": [],
   "source": []
  },
  {
   "cell_type": "code",
   "execution_count": null,
   "id": "422f0f29",
   "metadata": {},
   "outputs": [],
   "source": []
  },
  {
   "cell_type": "code",
   "execution_count": null,
   "id": "1b1ceedd",
   "metadata": {},
   "outputs": [],
   "source": []
  }
 ],
 "metadata": {
  "kernelspec": {
   "display_name": "Python 3 (ipykernel)",
   "language": "python",
   "name": "python3"
  },
  "language_info": {
   "codemirror_mode": {
    "name": "ipython",
    "version": 3
   },
   "file_extension": ".py",
   "mimetype": "text/x-python",
   "name": "python",
   "nbconvert_exporter": "python",
   "pygments_lexer": "ipython3",
   "version": "3.7.3"
  }
 },
 "nbformat": 4,
 "nbformat_minor": 5
}
