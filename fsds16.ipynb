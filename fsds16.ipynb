{
 "cells": [
  {
   "cell_type": "code",
   "execution_count": null,
   "id": "7f53af03",
   "metadata": {},
   "outputs": [],
   "source": [
    "1. How do you distinguish between shutil.copy() and shutil.copytree()?"
   ]
  },
  {
   "cell_type": "code",
   "execution_count": null,
   "id": "f47e4ee6",
   "metadata": {},
   "outputs": [],
   "source": [
    "copystat() method in Python is used to copy the permission bits, last access time, last\n",
    "modification time, and flags value from the given source path to given destination path.\n",
    "The shutil. copystat() method does not affect the file content and owner and group information."
   ]
  },
  {
   "cell_type": "code",
   "execution_count": null,
   "id": "12d4159d",
   "metadata": {},
   "outputs": [],
   "source": [
    "2. What function is used to rename files?"
   ]
  },
  {
   "cell_type": "code",
   "execution_count": null,
   "id": "dd981e2b",
   "metadata": {},
   "outputs": [],
   "source": [
    "rename() function is used to change the name."
   ]
  },
  {
   "cell_type": "code",
   "execution_count": null,
   "id": "878c65e7",
   "metadata": {},
   "outputs": [],
   "source": [
    "3. What is the difference between the delete functions in the send2trash and shutil modules?"
   ]
  },
  {
   "cell_type": "code",
   "execution_count": null,
   "id": "778ced53",
   "metadata": {},
   "outputs": [],
   "source": [
    "The send2trash functions will move a file or folder to the recycle bin, and shutil functions \n",
    "will permanently delete files and folders."
   ]
  },
  {
   "cell_type": "code",
   "execution_count": null,
   "id": "c2b45e65",
   "metadata": {},
   "outputs": [],
   "source": [
    "4.ZipFile objects have a close() method just like File objects’ close() method. What ZipFile\n",
    "method is equivalent to File objects’ open() method?"
   ]
  },
  {
   "cell_type": "code",
   "execution_count": null,
   "id": "ccea7a5d",
   "metadata": {},
   "outputs": [],
   "source": [
    "ZipFile. open(). "
   ]
  },
  {
   "cell_type": "code",
   "execution_count": null,
   "id": "d71f179f",
   "metadata": {},
   "outputs": [],
   "source": [
    "5. Create a programme that searches a folder tree for files with a certain file extension \n",
    "(such as .pdf or .jpg). Copy these files from whatever location they are in to a new folder."
   ]
  },
  {
   "cell_type": "code",
   "execution_count": null,
   "id": "81c124a4",
   "metadata": {},
   "outputs": [],
   "source": []
  }
 ],
 "metadata": {
  "kernelspec": {
   "display_name": "Python 3 (ipykernel)",
   "language": "python",
   "name": "python3"
  },
  "language_info": {
   "codemirror_mode": {
    "name": "ipython",
    "version": 3
   },
   "file_extension": ".py",
   "mimetype": "text/x-python",
   "name": "python",
   "nbconvert_exporter": "python",
   "pygments_lexer": "ipython3",
   "version": "3.7.3"
  }
 },
 "nbformat": 4,
 "nbformat_minor": 5
}
