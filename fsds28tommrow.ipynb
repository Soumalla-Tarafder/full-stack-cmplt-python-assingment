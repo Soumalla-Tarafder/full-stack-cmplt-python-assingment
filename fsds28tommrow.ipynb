{
 "cells": [
  {
   "cell_type": "code",
   "execution_count": null,
   "id": "e4d542c6",
   "metadata": {},
   "outputs": [],
   "source": [
    "1.Write a program to compute the frequency of the words from the input. The output\n",
    "should output after sorting the key alphanumerically."
   ]
  },
  {
   "cell_type": "code",
   "execution_count": null,
   "id": "7634f7bb",
   "metadata": {},
   "outputs": [],
   "source": [
    "sum=0\n",
    "n=input(\"enter a sentence\")\n",
    "\n",
    "l=[]\n",
    "l1=[]\n",
    "for i in n.split(sep=\" \"):\n",
    "    l.append(i)\n",
    "for j in l:\n",
    "    for k in l:\n",
    "        if j==k:\n",
    "            sum+=1\n",
    "    print(\"{} : {} \".format(j,sum))\n",
    "    \n",
    "    sum=0\n",
    " "
   ]
  },
  {
   "cell_type": "code",
   "execution_count": null,
   "id": "0bffdf12",
   "metadata": {},
   "outputs": [],
   "source": [
    "2.Define a class with a generator which can iterate the numbers, which are divisible by\n",
    "7, between a given range 0 and n."
   ]
  },
  {
   "cell_type": "code",
   "execution_count": 4,
   "id": "404aacda",
   "metadata": {},
   "outputs": [
    {
     "name": "stdout",
     "output_type": "stream",
     "text": [
      "enter a range500\n",
      "7\n",
      "14\n",
      "21\n",
      "28\n",
      "35\n",
      "42\n",
      "49\n",
      "56\n",
      "63\n",
      "70\n",
      "77\n",
      "84\n",
      "91\n",
      "98\n",
      "105\n",
      "112\n",
      "119\n",
      "126\n",
      "133\n",
      "140\n",
      "147\n",
      "154\n",
      "161\n",
      "168\n",
      "175\n",
      "182\n",
      "189\n",
      "196\n",
      "203\n",
      "210\n",
      "217\n",
      "224\n",
      "231\n",
      "238\n",
      "245\n",
      "252\n",
      "259\n",
      "266\n",
      "273\n",
      "280\n",
      "287\n",
      "294\n",
      "301\n",
      "308\n",
      "315\n",
      "322\n",
      "329\n",
      "336\n",
      "343\n",
      "350\n",
      "357\n",
      "364\n",
      "371\n",
      "378\n",
      "385\n",
      "392\n",
      "399\n",
      "406\n",
      "413\n",
      "420\n",
      "427\n",
      "434\n",
      "441\n",
      "448\n",
      "455\n",
      "462\n",
      "469\n",
      "476\n",
      "483\n",
      "490\n",
      "497\n"
     ]
    }
   ],
   "source": [
    "n=int(input(\"enter a range\"))\n",
    "def simpleGeneratorFun(n):\n",
    "    for i in range(1,n+1,1):\n",
    "        if i%7==0:\n",
    "            yield i            \n",
    "   \n",
    "\n",
    "for value in simpleGeneratorFun(n): \n",
    "    print(value)"
   ]
  },
  {
   "cell_type": "code",
   "execution_count": null,
   "id": "d821ff4f",
   "metadata": {},
   "outputs": [],
   "source": []
  },
  {
   "cell_type": "code",
   "execution_count": null,
   "id": "0801a9c6",
   "metadata": {},
   "outputs": [],
   "source": [
    "Define a class Person and its two child classes: Male and Female. All classes have a\n",
    "method \"getGender\" which can print\" Male\" for Male class and \"Female\" for Female\n",
    "class."
   ]
  },
  {
   "cell_type": "code",
   "execution_count": 19,
   "id": "c6efe6fa",
   "metadata": {},
   "outputs": [
    {
     "data": {
      "text/plain": [
       "<__main__.Person at 0x28564396710>"
      ]
     },
     "execution_count": 19,
     "metadata": {},
     "output_type": "execute_result"
    }
   ],
   "source": [
    "class Person:\n",
    "  def __init__(self, name):\n",
    "    self.name = name\n",
    "    \n",
    "\n",
    "  def getgender(self):\n",
    "    return (self.name)\n",
    "\n",
    "male= Person(male)\n",
    "male.getgender()\n",
    "\n",
    "\n"
   ]
  },
  {
   "cell_type": "code",
   "execution_count": null,
   "id": "4f8f1bdb",
   "metadata": {},
   "outputs": [],
   "source": []
  },
  {
   "cell_type": "code",
   "execution_count": null,
   "id": "e5dcd23a",
   "metadata": {},
   "outputs": [],
   "source": [
    "Please write a program to generate all sentences where subject is in [&quot;I&quot;, &quot;You&quot;] and\n",
    "verb is in [&quot;Play&quot;, &quot;Love&quot;] and the object is in [&quot;Hockey&quot;,&quot;Football&quot;]."
   ]
  },
  {
   "cell_type": "code",
   "execution_count": 1,
   "id": "f51d8244",
   "metadata": {},
   "outputs": [
    {
     "name": "stdout",
     "output_type": "stream",
     "text": [
      "i play hockey\n",
      "i play football\n",
      "i love hockey\n",
      "i love football\n",
      "you play hockey\n",
      "you play football\n",
      "you love hockey\n",
      "you love football\n"
     ]
    }
   ],
   "source": [
    "l=[\"i\",\"you\"]\n",
    "l1=[\"play\",\"love\"]\n",
    "l2=[\"hockey\",\"football\"]\n",
    "for i in l:\n",
    "    for k in l1:\n",
    "        for j in l2:\n",
    "            print(i,k,j)"
   ]
  },
  {
   "cell_type": "code",
   "execution_count": null,
   "id": "03877056",
   "metadata": {},
   "outputs": [],
   "source": []
  },
  {
   "cell_type": "code",
   "execution_count": null,
   "id": "fe00b5eb",
   "metadata": {},
   "outputs": [],
   "source": [
    "Please write a program to compress and decompress the string &quot;hello world!hello\n",
    "world!hello world!hello world!&quot;."
   ]
  },
  {
   "cell_type": "code",
   "execution_count": 8,
   "id": "ad4618eb",
   "metadata": {},
   "outputs": [
    {
     "name": "stdout",
     "output_type": "stream",
     "text": [
      "b'x\\x9c\\xcbH\\xcd\\xc9\\xc9W(\\xcf/\\xcaIQ\\xcc \\x82\\r\\x00\\xbd[\\x11\\xf5'\n",
      "b'hello world!hello world!hello world!hello world!'\n"
     ]
    }
   ],
   "source": [
    "import zlib\n",
    "s = 'hello world!hello world!hello world!hello world!'\n",
    "\n",
    "y = bytes(s, 'utf-8')\n",
    "x = zlib.compress(y)\n",
    "print(x)\n",
    "print(zlib.decompress(x))"
   ]
  },
  {
   "cell_type": "code",
   "execution_count": null,
   "id": "0a5a8fd3",
   "metadata": {},
   "outputs": [],
   "source": [
    "Please write a binary search function which searches an item in a sorted list. The\n",
    "function should return the index of element to be searched in the list."
   ]
  },
  {
   "cell_type": "code",
   "execution_count": 16,
   "id": "b9186765",
   "metadata": {},
   "outputs": [
    {
     "name": "stdout",
     "output_type": "stream",
     "text": [
      "Last occurrence of 4 is present at 3\n"
     ]
    }
   ],
   "source": [
    "from bisect import bisect_right\n",
    "  \n",
    "def BinarySearch(a, x):\n",
    "    i = bisect_right(a, x)\n",
    "    if i != len(a)+1 and a[i-1] == x:\n",
    "        return (i-1)\n",
    "    else:\n",
    "        return -1\n",
    "  \n",
    "a  = [1, 2, 4, 4]\n",
    "x = int(4)\n",
    "res = BinarySearch(a, x)\n",
    "if res == -1:\n",
    "    print(x, \"is absent\")\n",
    "else:\n",
    "    print(\"Last occurrence of\", x, \"is present at\", res)"
   ]
  },
  {
   "cell_type": "code",
   "execution_count": 32,
   "id": "4df45f88",
   "metadata": {},
   "outputs": [],
   "source": [
    "def binarysearch(n,j):\n",
    "    pos=1\n",
    "    for i in n:\n",
    "        if i == j:\n",
    "            print(\"{} found at {} position\".format(j,pos))\n",
    "            \n",
    "            break\n",
    "        pos+=1    \n",
    "    else:\n",
    "        print(\"not found\")\n",
    "       "
   ]
  },
  {
   "cell_type": "code",
   "execution_count": 33,
   "id": "c4c26235",
   "metadata": {},
   "outputs": [
    {
     "name": "stdout",
     "output_type": "stream",
     "text": [
      "3 found at 3 position\n"
     ]
    }
   ],
   "source": [
    "binarysearch([1,2,3,4,78,5],3) "
   ]
  },
  {
   "cell_type": "code",
   "execution_count": null,
   "id": "5a65cc35",
   "metadata": {},
   "outputs": [],
   "source": []
  }
 ],
 "metadata": {
  "kernelspec": {
   "display_name": "Python 3 (ipykernel)",
   "language": "python",
   "name": "python3"
  },
  "language_info": {
   "codemirror_mode": {
    "name": "ipython",
    "version": 3
   },
   "file_extension": ".py",
   "mimetype": "text/x-python",
   "name": "python",
   "nbconvert_exporter": "python",
   "pygments_lexer": "ipython3",
   "version": "3.7.3"
  }
 },
 "nbformat": 4,
 "nbformat_minor": 5
}
