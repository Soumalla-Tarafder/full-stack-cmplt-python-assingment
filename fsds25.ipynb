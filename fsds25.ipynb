{
 "cells": [
  {
   "cell_type": "code",
   "execution_count": 7,
   "id": "a85c8235",
   "metadata": {},
   "outputs": [],
   "source": [
    "Q1. What is the relationship between classes and modules?"
   ]
  },
  {
   "cell_type": "code",
   "execution_count": null,
   "id": "229df446",
   "metadata": {},
   "outputs": [],
   "source": [
    "Modules are collections of methods and constants. They cannot generate instances. Classes may\n",
    "generate instances (objects), and have instance variables."
   ]
  },
  {
   "cell_type": "code",
   "execution_count": null,
   "id": "77e977e7",
   "metadata": {},
   "outputs": [],
   "source": [
    "Q2. How do you make instances and classes?"
   ]
  },
  {
   "cell_type": "code",
   "execution_count": null,
   "id": "870bd2c3",
   "metadata": {},
   "outputs": [],
   "source": [
    "classes are created using class keyword.\n",
    "class [class-name].\n",
    "\n",
    "instances are created using\n",
    "\n",
    "instancename= class-name()"
   ]
  },
  {
   "cell_type": "code",
   "execution_count": null,
   "id": "a4f89229",
   "metadata": {},
   "outputs": [],
   "source": [
    "Q3. Where and how should be class attributes created?"
   ]
  },
  {
   "cell_type": "code",
   "execution_count": null,
   "id": "5ac4ce42",
   "metadata": {},
   "outputs": [],
   "source": [
    "Instance attributes are defined in the constructor. Defined directly inside a class. Defined \n",
    "inside a constructor using the self parameter. "
   ]
  },
  {
   "cell_type": "code",
   "execution_count": null,
   "id": "bd1a4245",
   "metadata": {},
   "outputs": [],
   "source": [
    "Q4. Where and how are instance attributes created?"
   ]
  },
  {
   "cell_type": "code",
   "execution_count": null,
   "id": "0c34695c",
   "metadata": {},
   "outputs": [],
   "source": [
    "Instance attributes are defined in the constructor. Defined directly inside a class. Defined \n",
    "inside a constructor using the self parameter"
   ]
  },
  {
   "cell_type": "code",
   "execution_count": null,
   "id": "33381d20",
   "metadata": {},
   "outputs": [],
   "source": [
    "Q5. What does the term \"self\" in a Python class mean?"
   ]
  },
  {
   "cell_type": "code",
   "execution_count": null,
   "id": "fa5dd5b1",
   "metadata": {},
   "outputs": [],
   "source": [
    "self keyword is used to create a constructer of a class."
   ]
  },
  {
   "cell_type": "code",
   "execution_count": null,
   "id": "6272ae14",
   "metadata": {},
   "outputs": [],
   "source": [
    "Q6. How does a Python class handle operator overloading?"
   ]
  },
  {
   "cell_type": "code",
   "execution_count": null,
   "id": "bfb033c6",
   "metadata": {},
   "outputs": [],
   "source": [
    "There isn't any method overloading in Python. You can however use default arguments, as follows.\n",
    "When you pass it an argument, it will follow the logic of the first condition and execute the \n",
    "first print statement. When you pass it no arguments, it will go into the else condition and \n",
    "execute the second print statement."
   ]
  },
  {
   "cell_type": "code",
   "execution_count": null,
   "id": "d8ec5f25",
   "metadata": {},
   "outputs": [],
   "source": [
    "Q7. When do you consider allowing operator overloading of your classes?"
   ]
  },
  {
   "cell_type": "code",
   "execution_count": null,
   "id": "8d2a921a",
   "metadata": {},
   "outputs": [],
   "source": [
    "you can exploit the intuition of the users of that class. This lets users program in the \n",
    "language of the problem domain rather than in the language of the machine."
   ]
  },
  {
   "cell_type": "code",
   "execution_count": null,
   "id": "f8df8f7a",
   "metadata": {},
   "outputs": [],
   "source": [
    "Q8. What is the most popular form of operator overloading?"
   ]
  },
  {
   "cell_type": "code",
   "execution_count": null,
   "id": "75b885c0",
   "metadata": {},
   "outputs": [],
   "source": [
    "A very popular and convenient example is the Addition (+) operator.It performs “Addition” on \n",
    "numbers whereas it performs “Concatenation” on strings."
   ]
  },
  {
   "cell_type": "code",
   "execution_count": null,
   "id": "83e39ee7",
   "metadata": {},
   "outputs": [],
   "source": [
    "Q9. What are the two most important concepts to grasp in order to comprehend Python OOP code?"
   ]
  },
  {
   "cell_type": "code",
   "execution_count": null,
   "id": "fec8619a",
   "metadata": {},
   "outputs": [],
   "source": [
    " two key concepts of OOP which are inheritance and polymorphism."
   ]
  },
  {
   "cell_type": "code",
   "execution_count": null,
   "id": "5eb638ce",
   "metadata": {},
   "outputs": [],
   "source": []
  },
  {
   "cell_type": "code",
   "execution_count": null,
   "id": "799fe919",
   "metadata": {},
   "outputs": [],
   "source": []
  },
  {
   "cell_type": "code",
   "execution_count": 15,
   "id": "142b6566",
   "metadata": {},
   "outputs": [],
   "source": []
  },
  {
   "cell_type": "code",
   "execution_count": null,
   "id": "55d0568e",
   "metadata": {},
   "outputs": [],
   "source": []
  }
 ],
 "metadata": {
  "kernelspec": {
   "display_name": "Python 3 (ipykernel)",
   "language": "python",
   "name": "python3"
  },
  "language_info": {
   "codemirror_mode": {
    "name": "ipython",
    "version": 3
   },
   "file_extension": ".py",
   "mimetype": "text/x-python",
   "name": "python",
   "nbconvert_exporter": "python",
   "pygments_lexer": "ipython3",
   "version": "3.7.3"
  }
 },
 "nbformat": 4,
 "nbformat_minor": 5
}
