{
 "cells": [
  {
   "cell_type": "code",
   "execution_count": null,
   "id": "03cb7612",
   "metadata": {},
   "outputs": [],
   "source": [
    "1. In what modes should the PdfFileReader() and PdfFileWriter() File objects will be opened?"
   ]
  },
  {
   "cell_type": "code",
   "execution_count": null,
   "id": "8f9a8c9f",
   "metadata": {},
   "outputs": [],
   "source": [
    "PdfFileReader()  open with rb read binry mode.\n",
    "PdfFileWriter() open with wb write binary object."
   ]
  },
  {
   "cell_type": "code",
   "execution_count": null,
   "id": "7b00c439",
   "metadata": {},
   "outputs": [],
   "source": [
    "2. From a PdfFileReader object, how do you get a Page object for page 5?"
   ]
  },
  {
   "cell_type": "code",
   "execution_count": null,
   "id": "4ae21217",
   "metadata": {},
   "outputs": [],
   "source": [
    "by calling the getPage(5) method. "
   ]
  },
  {
   "cell_type": "code",
   "execution_count": null,
   "id": "63437433",
   "metadata": {},
   "outputs": [],
   "source": [
    "3. What PdfFileReader variable stores the number of pages in the PDF document?"
   ]
  },
  {
   "cell_type": "code",
   "execution_count": null,
   "id": "bad77835",
   "metadata": {},
   "outputs": [],
   "source": [
    "The total number of pages in the document is stored in the numPages attribute of a \n",
    "PdfFileReader object "
   ]
  },
  {
   "cell_type": "code",
   "execution_count": null,
   "id": "6337ec88",
   "metadata": {},
   "outputs": [],
   "source": [
    "4. If a PdfFileReader object’s PDF is encrypted with the password swordfish, what must you do\n",
    "before you can obtain Page objects from it?"
   ]
  },
  {
   "cell_type": "code",
   "execution_count": null,
   "id": "e9dd6dd1",
   "metadata": {},
   "outputs": [],
   "source": []
  },
  {
   "cell_type": "code",
   "execution_count": null,
   "id": "46f73c78",
   "metadata": {},
   "outputs": [],
   "source": [
    "5. What methods do you use to rotate a page?"
   ]
  },
  {
   "cell_type": "code",
   "execution_count": null,
   "id": "b1cadaeb",
   "metadata": {},
   "outputs": [],
   "source": [
    "We are using rotateClockwise(90) method to rotate the page clockwise by 90-degrees."
   ]
  },
  {
   "cell_type": "code",
   "execution_count": null,
   "id": "0034e6e6",
   "metadata": {},
   "outputs": [],
   "source": [
    "6. What is the difference between a Run object and a Paragraph object?"
   ]
  },
  {
   "cell_type": "code",
   "execution_count": null,
   "id": "0a32d575",
   "metadata": {},
   "outputs": [],
   "source": [
    "A run is the object most closely associated with inline content; text, pictures, and other items \n",
    "that are flowed between the block-item boundaries within a paragraph.\n",
    "\n",
    "Paragraph objects run to this paragraph containing text and having character style \n",
    "identified by style ID style. text can contain tab ( \\t ) characters, which are converted to the\n",
    "appropriate XML form for a tab."
   ]
  },
  {
   "cell_type": "code",
   "execution_count": null,
   "id": "a49fb3ec",
   "metadata": {},
   "outputs": [],
   "source": [
    "7. How do you obtain a list of Paragraph objects for a Document object that’s stored in a variable\n",
    "named doc?"
   ]
  },
  {
   "cell_type": "code",
   "execution_count": null,
   "id": "ef9b1039",
   "metadata": {},
   "outputs": [],
   "source": []
  },
  {
   "cell_type": "code",
   "execution_count": null,
   "id": "6640875a",
   "metadata": {},
   "outputs": [],
   "source": [
    "8. What type of object has bold, underline, italic, strike, and outline variables?"
   ]
  },
  {
   "cell_type": "code",
   "execution_count": null,
   "id": "4c22ccbc",
   "metadata": {},
   "outputs": [],
   "source": []
  },
  {
   "cell_type": "code",
   "execution_count": null,
   "id": "432d4e18",
   "metadata": {},
   "outputs": [],
   "source": [
    "9. What is the difference between False, True, and None for the bold variable?"
   ]
  },
  {
   "cell_type": "code",
   "execution_count": null,
   "id": "b196d7be",
   "metadata": {},
   "outputs": [],
   "source": [
    "True / False are used where the field takes a boolean value. None is used where the field takes \n",
    "an Optional[List] ."
   ]
  },
  {
   "cell_type": "code",
   "execution_count": null,
   "id": "1f307ac7",
   "metadata": {},
   "outputs": [],
   "source": [
    "10. How do you create a Document object for a new Word document?"
   ]
  },
  {
   "cell_type": "code",
   "execution_count": null,
   "id": "5aa0185c",
   "metadata": {},
   "outputs": [],
   "source": []
  },
  {
   "cell_type": "code",
   "execution_count": null,
   "id": "96b67d52",
   "metadata": {},
   "outputs": [],
   "source": [
    "\n",
    "11. How do you add a paragraph with the text \"Hello, there\" to a Document object stored in a\n",
    "variable named doc?"
   ]
  },
  {
   "cell_type": "code",
   "execution_count": null,
   "id": "e87aca4c",
   "metadata": {},
   "outputs": [],
   "source": [
    "add_paragraph(\"Hello, there\"). "
   ]
  },
  {
   "cell_type": "code",
   "execution_count": null,
   "id": "3bc5ac2c",
   "metadata": {},
   "outputs": [],
   "source": [
    "12. What integers represent the levels of headings available in Word documents?"
   ]
  },
  {
   "cell_type": "code",
   "execution_count": null,
   "id": "ac24a216",
   "metadata": {},
   "outputs": [],
   "source": [
    "1,2,3"
   ]
  }
 ],
 "metadata": {
  "kernelspec": {
   "display_name": "Python 3 (ipykernel)",
   "language": "python",
   "name": "python3"
  },
  "language_info": {
   "codemirror_mode": {
    "name": "ipython",
    "version": 3
   },
   "file_extension": ".py",
   "mimetype": "text/x-python",
   "name": "python",
   "nbconvert_exporter": "python",
   "pygments_lexer": "ipython3",
   "version": "3.7.3"
  }
 },
 "nbformat": 4,
 "nbformat_minor": 5
}
